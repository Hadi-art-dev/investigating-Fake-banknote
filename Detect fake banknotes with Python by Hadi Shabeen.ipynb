{
 "cells": [
  {
   "cell_type": "markdown",
   "id": "7581e3ee",
   "metadata": {},
   "source": [
    "# Detect fake banknotes using statistical model( Supervised learning)\n",
    "\n",
    "- Multi-linear regression \n",
    "- Logistic regression\n",
    "- confusion matrix \n",
    "- Roc curve\n"
   ]
  },
  {
   "cell_type": "code",
   "execution_count": 1,
   "id": "15d7d9ca",
   "metadata": {},
   "outputs": [],
   "source": [
    "import pandas as pd\n",
    "import numpy as np\n",
    "import seaborn as sns\n",
    "import matplotlib.pyplot as plt\n",
    "\n",
    "import statsmodels.api as sm\n",
    "import statsmodels.formula.api as smf\n",
    "from statsmodels.stats.outliers_influence import variance_inflation_factor\n",
    "import statsmodels\n",
    "\n",
    "from scipy.stats import t, shapiro\n",
    "from scipy import stats\n",
    "\n",
    "from sklearn.metrics import confusion_matrix,classification_report\n",
    "from sklearn.cluster import KMeans\n",
    "from sklearn import decomposition\n",
    "from sklearn.metrics import roc_auc_score\n",
    "from sklearn.metrics import roc_curve\n",
    "from sklearn.metrics import classification_report\n",
    "from sklearn.model_selection import train_test_split\n",
    "from sklearn import linear_model\n",
    "from sklearn import decomposition\n",
    "from sklearn import preprocessing"
   ]
  },
  {
   "cell_type": "code",
   "execution_count": 2,
   "id": "8724065e",
   "metadata": {},
   "outputs": [],
   "source": [
    "def display_factorial_planes(X_projected, n_comp, pca, axis_ranks, labels=None, alpha=1, illustrative_var=None):\n",
    "    '''Display a scatter plot on a factorial plane, one for each factorial plane'''\n",
    "\n",
    "    # For each factorial plane\n",
    "    for d1,d2 in axis_ranks:\n",
    "        if d2 < n_comp:\n",
    " \n",
    "            # Initialise the matplotlib figure      \n",
    "            fig = plt.figure(figsize=(7,6))\n",
    "        \n",
    "            # Display the points\n",
    "            if illustrative_var is None:\n",
    "                plt.scatter(X_projected[:, d1], X_projected[:, d2], alpha=alpha)\n",
    "            else:\n",
    "                illustrative_var = np.array(illustrative_var)\n",
    "                for value in np.unique(illustrative_var):\n",
    "                    selected = np.where(illustrative_var == value)\n",
    "                    plt.scatter(X_projected[selected, d1], X_projected[selected, d2], alpha=alpha, label=value)\n",
    "                plt.legend()\n",
    "\n",
    "            # Display the labels on the points\n",
    "            if labels is not None:\n",
    "                for i,(x,y) in enumerate(X_projected[:,[d1,d2]]):\n",
    "                    plt.text(x, y, labels[i],\n",
    "                              fontsize='14', ha='center',va='center') \n",
    "                \n",
    "            # Define the limits of the chart\n",
    "            boundary = np.max(np.abs(X_projected[:, [d1,d2]])) * 1.1\n",
    "            plt.xlim([-boundary,boundary])\n",
    "            plt.ylim([-boundary,boundary])\n",
    "        \n",
    "            # Display grid lines\n",
    "            plt.plot([-100, 100], [0, 0], color='grey', ls='--')\n",
    "            plt.plot([0, 0], [-100, 100], color='grey', ls='--')\n",
    "\n",
    "            # Label the axes, with the percentage of variance explained\n",
    "            plt.xlabel('PC{} ({}%)'.format(d1+1, round(100*pca.explained_variance_ratio_[d1],1)))\n",
    "            plt.ylabel('PC{} ({}%)'.format(d2+1, round(100*pca.explained_variance_ratio_[d2],1)))\n",
    "\n",
    "            plt.title(\"Projection of points (on PC{} and PC{})\".format(d1+1, d2+1))\n",
    "            #plt.show(block=False)"
   ]
  },
  {
   "cell_type": "code",
   "execution_count": 3,
   "id": "72424044",
   "metadata": {},
   "outputs": [
    {
     "data": {
      "text/html": [
       "<div>\n",
       "<style scoped>\n",
       "    .dataframe tbody tr th:only-of-type {\n",
       "        vertical-align: middle;\n",
       "    }\n",
       "\n",
       "    .dataframe tbody tr th {\n",
       "        vertical-align: top;\n",
       "    }\n",
       "\n",
       "    .dataframe thead th {\n",
       "        text-align: right;\n",
       "    }\n",
       "</style>\n",
       "<table border=\"1\" class=\"dataframe\">\n",
       "  <thead>\n",
       "    <tr style=\"text-align: right;\">\n",
       "      <th></th>\n",
       "      <th>diagonal</th>\n",
       "      <th>height_left</th>\n",
       "      <th>height_right</th>\n",
       "      <th>margin_low</th>\n",
       "      <th>margin_up</th>\n",
       "      <th>length</th>\n",
       "      <th>id</th>\n",
       "    </tr>\n",
       "  </thead>\n",
       "  <tbody>\n",
       "    <tr>\n",
       "      <th>0</th>\n",
       "      <td>171.76</td>\n",
       "      <td>104.01</td>\n",
       "      <td>103.54</td>\n",
       "      <td>5.21</td>\n",
       "      <td>3.30</td>\n",
       "      <td>111.42</td>\n",
       "      <td>A_1</td>\n",
       "    </tr>\n",
       "    <tr>\n",
       "      <th>1</th>\n",
       "      <td>171.87</td>\n",
       "      <td>104.17</td>\n",
       "      <td>104.13</td>\n",
       "      <td>6.00</td>\n",
       "      <td>3.31</td>\n",
       "      <td>112.09</td>\n",
       "      <td>A_2</td>\n",
       "    </tr>\n",
       "    <tr>\n",
       "      <th>2</th>\n",
       "      <td>172.00</td>\n",
       "      <td>104.58</td>\n",
       "      <td>104.29</td>\n",
       "      <td>4.99</td>\n",
       "      <td>3.39</td>\n",
       "      <td>111.57</td>\n",
       "      <td>A_3</td>\n",
       "    </tr>\n",
       "    <tr>\n",
       "      <th>3</th>\n",
       "      <td>172.49</td>\n",
       "      <td>104.55</td>\n",
       "      <td>104.34</td>\n",
       "      <td>4.44</td>\n",
       "      <td>3.03</td>\n",
       "      <td>113.20</td>\n",
       "      <td>A_4</td>\n",
       "    </tr>\n",
       "    <tr>\n",
       "      <th>4</th>\n",
       "      <td>171.65</td>\n",
       "      <td>103.63</td>\n",
       "      <td>103.56</td>\n",
       "      <td>3.77</td>\n",
       "      <td>3.16</td>\n",
       "      <td>113.33</td>\n",
       "      <td>A_5</td>\n",
       "    </tr>\n",
       "  </tbody>\n",
       "</table>\n",
       "</div>"
      ],
      "text/plain": [
       "   diagonal  height_left  height_right  margin_low  margin_up  length   id\n",
       "0    171.76       104.01        103.54        5.21       3.30  111.42  A_1\n",
       "1    171.87       104.17        104.13        6.00       3.31  112.09  A_2\n",
       "2    172.00       104.58        104.29        4.99       3.39  111.57  A_3\n",
       "3    172.49       104.55        104.34        4.44       3.03  113.20  A_4\n",
       "4    171.65       103.63        103.56        3.77       3.16  113.33  A_5"
      ]
     },
     "execution_count": 3,
     "metadata": {},
     "output_type": "execute_result"
    }
   ],
   "source": [
    "# all mesures in mm melimeters \n",
    "billets_production = pd.read_csv('billets_production.csv')\n",
    "billets_production"
   ]
  },
  {
   "cell_type": "markdown",
   "id": "95a8ffe3",
   "metadata": {},
   "source": [
    "Notes: Supervised learning :  \n",
    "- (predictor variables/fetures)s and (Targate variable)\n",
    "a row and a column for each feture\n",
    "\n",
    "- Aim of supervised learning is to Predict the target variable, given the predictor variables:\n",
    "  - Classification: Target variable consists of categories(spam or not spam. True or False , to do or not to do)\n",
    "  \n",
    "  - Regression: Target variable is countinuous \n",
    "  \n",
    "- Terms or Naming conventions :\n",
    "   - Features = predictor variables = independent variables\n",
    "   - Target variable = dependent variable = response variable \n",
    "   \n",
    "   \n",
    "- supervised learning\n",
    "   - Automate time-consuming or expensive manual tasks : E.g :Doctor's diagnosis\n",
    "   \n",
    "   OR \n",
    "   - Make predictions about the future:\n",
    "     E.g: Will the customer click on an ad or not?\n",
    "     "
   ]
  },
  {
   "cell_type": "markdown",
   "id": "91f6efaa",
   "metadata": {},
   "source": [
    "- For supervised learning: \n",
    " - Need :\n",
    "    - Historical data with labels\n",
    "    \n",
    "    OR\n",
    "    - preform Experiments to get labeled data such as A/B testing to get how many cklic you get .\n",
    "    \n",
    "    OR\n",
    "    - Crowd-sourcing labeled data such as reCAPTCHA this for (text recognation )\n",
    "    \n",
    "    \n",
    "- at any case is to lean from data for wich the right output is known, so we can make predictions on new data for which we don't know the output \n",
    "   "
   ]
  },
  {
   "cell_type": "markdown",
   "id": "d2daa208",
   "metadata": {},
   "source": [
    "- Many way to perform supervised learning in python:\n",
    "       \n",
    "     - Scikit-learn/sklearn integrates well with SciPy stack, \n",
    "    \n",
    "- and there is other libraries such as : \n",
    "     \n",
    "   - TensorFlow and\n",
    "   - Keras)"
   ]
  },
  {
   "cell_type": "markdown",
   "id": "c3c9e0d6",
   "metadata": {},
   "source": [
    "# Project_discution : \n",
    "    \n",
    "- Features: consist of four length  \n",
    "   - diagonal;\n",
    "   - height_left\n",
    "   - height_right\n",
    "   - margin_low\n",
    "   - margin_up\n",
    "   - length\n",
    "- Target variables: contain is genuine and have to opetions True or Fals\n",
    "   - is_genuine (True or False)\n",
    "   "
   ]
  },
  {
   "cell_type": "code",
   "execution_count": 4,
   "id": "467a1edb",
   "metadata": {},
   "outputs": [
    {
     "data": {
      "text/html": [
       "<div>\n",
       "<style scoped>\n",
       "    .dataframe tbody tr th:only-of-type {\n",
       "        vertical-align: middle;\n",
       "    }\n",
       "\n",
       "    .dataframe tbody tr th {\n",
       "        vertical-align: top;\n",
       "    }\n",
       "\n",
       "    .dataframe thead th {\n",
       "        text-align: right;\n",
       "    }\n",
       "</style>\n",
       "<table border=\"1\" class=\"dataframe\">\n",
       "  <thead>\n",
       "    <tr style=\"text-align: right;\">\n",
       "      <th></th>\n",
       "      <th>is_genuine</th>\n",
       "      <th>diagonal</th>\n",
       "      <th>height_left</th>\n",
       "      <th>height_right</th>\n",
       "      <th>margin_low</th>\n",
       "      <th>margin_up</th>\n",
       "      <th>length</th>\n",
       "    </tr>\n",
       "  </thead>\n",
       "  <tbody>\n",
       "    <tr>\n",
       "      <th>0</th>\n",
       "      <td>True</td>\n",
       "      <td>171.81</td>\n",
       "      <td>104.86</td>\n",
       "      <td>104.95</td>\n",
       "      <td>4.52</td>\n",
       "      <td>2.89</td>\n",
       "      <td>112.83</td>\n",
       "    </tr>\n",
       "    <tr>\n",
       "      <th>1</th>\n",
       "      <td>True</td>\n",
       "      <td>171.46</td>\n",
       "      <td>103.36</td>\n",
       "      <td>103.66</td>\n",
       "      <td>3.77</td>\n",
       "      <td>2.99</td>\n",
       "      <td>113.09</td>\n",
       "    </tr>\n",
       "    <tr>\n",
       "      <th>2</th>\n",
       "      <td>True</td>\n",
       "      <td>172.69</td>\n",
       "      <td>104.48</td>\n",
       "      <td>103.50</td>\n",
       "      <td>4.40</td>\n",
       "      <td>2.94</td>\n",
       "      <td>113.16</td>\n",
       "    </tr>\n",
       "    <tr>\n",
       "      <th>3</th>\n",
       "      <td>True</td>\n",
       "      <td>171.36</td>\n",
       "      <td>103.91</td>\n",
       "      <td>103.94</td>\n",
       "      <td>3.62</td>\n",
       "      <td>3.01</td>\n",
       "      <td>113.51</td>\n",
       "    </tr>\n",
       "    <tr>\n",
       "      <th>4</th>\n",
       "      <td>True</td>\n",
       "      <td>171.73</td>\n",
       "      <td>104.28</td>\n",
       "      <td>103.46</td>\n",
       "      <td>4.04</td>\n",
       "      <td>3.48</td>\n",
       "      <td>112.54</td>\n",
       "    </tr>\n",
       "    <tr>\n",
       "      <th>...</th>\n",
       "      <td>...</td>\n",
       "      <td>...</td>\n",
       "      <td>...</td>\n",
       "      <td>...</td>\n",
       "      <td>...</td>\n",
       "      <td>...</td>\n",
       "      <td>...</td>\n",
       "    </tr>\n",
       "    <tr>\n",
       "      <th>1495</th>\n",
       "      <td>False</td>\n",
       "      <td>171.75</td>\n",
       "      <td>104.38</td>\n",
       "      <td>104.17</td>\n",
       "      <td>4.42</td>\n",
       "      <td>3.09</td>\n",
       "      <td>111.28</td>\n",
       "    </tr>\n",
       "    <tr>\n",
       "      <th>1496</th>\n",
       "      <td>False</td>\n",
       "      <td>172.19</td>\n",
       "      <td>104.63</td>\n",
       "      <td>104.44</td>\n",
       "      <td>5.27</td>\n",
       "      <td>3.37</td>\n",
       "      <td>110.97</td>\n",
       "    </tr>\n",
       "    <tr>\n",
       "      <th>1497</th>\n",
       "      <td>False</td>\n",
       "      <td>171.80</td>\n",
       "      <td>104.01</td>\n",
       "      <td>104.12</td>\n",
       "      <td>5.51</td>\n",
       "      <td>3.36</td>\n",
       "      <td>111.95</td>\n",
       "    </tr>\n",
       "    <tr>\n",
       "      <th>1498</th>\n",
       "      <td>False</td>\n",
       "      <td>172.06</td>\n",
       "      <td>104.28</td>\n",
       "      <td>104.06</td>\n",
       "      <td>5.17</td>\n",
       "      <td>3.46</td>\n",
       "      <td>112.25</td>\n",
       "    </tr>\n",
       "    <tr>\n",
       "      <th>1499</th>\n",
       "      <td>False</td>\n",
       "      <td>171.47</td>\n",
       "      <td>104.15</td>\n",
       "      <td>103.82</td>\n",
       "      <td>4.63</td>\n",
       "      <td>3.37</td>\n",
       "      <td>112.07</td>\n",
       "    </tr>\n",
       "  </tbody>\n",
       "</table>\n",
       "<p>1500 rows × 7 columns</p>\n",
       "</div>"
      ],
      "text/plain": [
       "      is_genuine  diagonal  height_left  height_right  margin_low  margin_up  \\\n",
       "0           True    171.81       104.86        104.95        4.52       2.89   \n",
       "1           True    171.46       103.36        103.66        3.77       2.99   \n",
       "2           True    172.69       104.48        103.50        4.40       2.94   \n",
       "3           True    171.36       103.91        103.94        3.62       3.01   \n",
       "4           True    171.73       104.28        103.46        4.04       3.48   \n",
       "...          ...       ...          ...           ...         ...        ...   \n",
       "1495       False    171.75       104.38        104.17        4.42       3.09   \n",
       "1496       False    172.19       104.63        104.44        5.27       3.37   \n",
       "1497       False    171.80       104.01        104.12        5.51       3.36   \n",
       "1498       False    172.06       104.28        104.06        5.17       3.46   \n",
       "1499       False    171.47       104.15        103.82        4.63       3.37   \n",
       "\n",
       "      length  \n",
       "0     112.83  \n",
       "1     113.09  \n",
       "2     113.16  \n",
       "3     113.51  \n",
       "4     112.54  \n",
       "...      ...  \n",
       "1495  111.28  \n",
       "1496  110.97  \n",
       "1497  111.95  \n",
       "1498  112.25  \n",
       "1499  112.07  \n",
       "\n",
       "[1500 rows x 7 columns]"
      ]
     },
     "execution_count": 4,
     "metadata": {},
     "output_type": "execute_result"
    }
   ],
   "source": [
    "billets= pd.read_csv('billets.csv',\n",
    "                     delimiter = ';')  \n",
    "billets"
   ]
  },
  {
   "cell_type": "code",
   "execution_count": 5,
   "id": "00ffd9f3",
   "metadata": {},
   "outputs": [
    {
     "data": {
      "text/html": [
       "<div>\n",
       "<style scoped>\n",
       "    .dataframe tbody tr th:only-of-type {\n",
       "        vertical-align: middle;\n",
       "    }\n",
       "\n",
       "    .dataframe tbody tr th {\n",
       "        vertical-align: top;\n",
       "    }\n",
       "\n",
       "    .dataframe thead th {\n",
       "        text-align: right;\n",
       "    }\n",
       "</style>\n",
       "<table border=\"1\" class=\"dataframe\">\n",
       "  <thead>\n",
       "    <tr style=\"text-align: right;\">\n",
       "      <th></th>\n",
       "      <th>is_genuine</th>\n",
       "      <th>diagonal</th>\n",
       "      <th>height_left</th>\n",
       "      <th>height_right</th>\n",
       "      <th>margin_low</th>\n",
       "      <th>margin_up</th>\n",
       "      <th>length</th>\n",
       "    </tr>\n",
       "  </thead>\n",
       "  <tbody>\n",
       "    <tr>\n",
       "      <th>72</th>\n",
       "      <td>True</td>\n",
       "      <td>171.94</td>\n",
       "      <td>103.89</td>\n",
       "      <td>103.45</td>\n",
       "      <td>NaN</td>\n",
       "      <td>3.25</td>\n",
       "      <td>112.79</td>\n",
       "    </tr>\n",
       "    <tr>\n",
       "      <th>99</th>\n",
       "      <td>True</td>\n",
       "      <td>171.93</td>\n",
       "      <td>104.07</td>\n",
       "      <td>104.18</td>\n",
       "      <td>NaN</td>\n",
       "      <td>3.14</td>\n",
       "      <td>113.08</td>\n",
       "    </tr>\n",
       "    <tr>\n",
       "      <th>151</th>\n",
       "      <td>True</td>\n",
       "      <td>172.07</td>\n",
       "      <td>103.80</td>\n",
       "      <td>104.38</td>\n",
       "      <td>NaN</td>\n",
       "      <td>3.02</td>\n",
       "      <td>112.93</td>\n",
       "    </tr>\n",
       "    <tr>\n",
       "      <th>197</th>\n",
       "      <td>True</td>\n",
       "      <td>171.45</td>\n",
       "      <td>103.66</td>\n",
       "      <td>103.80</td>\n",
       "      <td>NaN</td>\n",
       "      <td>3.62</td>\n",
       "      <td>113.27</td>\n",
       "    </tr>\n",
       "    <tr>\n",
       "      <th>241</th>\n",
       "      <td>True</td>\n",
       "      <td>171.83</td>\n",
       "      <td>104.14</td>\n",
       "      <td>104.06</td>\n",
       "      <td>NaN</td>\n",
       "      <td>3.02</td>\n",
       "      <td>112.36</td>\n",
       "    </tr>\n",
       "    <tr>\n",
       "      <th>251</th>\n",
       "      <td>True</td>\n",
       "      <td>171.80</td>\n",
       "      <td>103.26</td>\n",
       "      <td>102.82</td>\n",
       "      <td>NaN</td>\n",
       "      <td>2.95</td>\n",
       "      <td>113.22</td>\n",
       "    </tr>\n",
       "    <tr>\n",
       "      <th>284</th>\n",
       "      <td>True</td>\n",
       "      <td>171.92</td>\n",
       "      <td>103.83</td>\n",
       "      <td>103.76</td>\n",
       "      <td>NaN</td>\n",
       "      <td>3.23</td>\n",
       "      <td>113.29</td>\n",
       "    </tr>\n",
       "    <tr>\n",
       "      <th>334</th>\n",
       "      <td>True</td>\n",
       "      <td>171.85</td>\n",
       "      <td>103.70</td>\n",
       "      <td>103.96</td>\n",
       "      <td>NaN</td>\n",
       "      <td>3.00</td>\n",
       "      <td>113.36</td>\n",
       "    </tr>\n",
       "    <tr>\n",
       "      <th>410</th>\n",
       "      <td>True</td>\n",
       "      <td>172.56</td>\n",
       "      <td>103.72</td>\n",
       "      <td>103.51</td>\n",
       "      <td>NaN</td>\n",
       "      <td>3.12</td>\n",
       "      <td>112.95</td>\n",
       "    </tr>\n",
       "    <tr>\n",
       "      <th>413</th>\n",
       "      <td>True</td>\n",
       "      <td>172.30</td>\n",
       "      <td>103.66</td>\n",
       "      <td>103.50</td>\n",
       "      <td>NaN</td>\n",
       "      <td>3.16</td>\n",
       "      <td>112.95</td>\n",
       "    </tr>\n",
       "    <tr>\n",
       "      <th>445</th>\n",
       "      <td>True</td>\n",
       "      <td>172.34</td>\n",
       "      <td>104.42</td>\n",
       "      <td>103.22</td>\n",
       "      <td>NaN</td>\n",
       "      <td>3.01</td>\n",
       "      <td>112.97</td>\n",
       "    </tr>\n",
       "    <tr>\n",
       "      <th>481</th>\n",
       "      <td>True</td>\n",
       "      <td>171.81</td>\n",
       "      <td>103.53</td>\n",
       "      <td>103.96</td>\n",
       "      <td>NaN</td>\n",
       "      <td>2.71</td>\n",
       "      <td>113.99</td>\n",
       "    </tr>\n",
       "    <tr>\n",
       "      <th>505</th>\n",
       "      <td>True</td>\n",
       "      <td>172.01</td>\n",
       "      <td>103.97</td>\n",
       "      <td>104.05</td>\n",
       "      <td>NaN</td>\n",
       "      <td>2.98</td>\n",
       "      <td>113.65</td>\n",
       "    </tr>\n",
       "    <tr>\n",
       "      <th>611</th>\n",
       "      <td>True</td>\n",
       "      <td>171.80</td>\n",
       "      <td>103.68</td>\n",
       "      <td>103.49</td>\n",
       "      <td>NaN</td>\n",
       "      <td>3.30</td>\n",
       "      <td>112.84</td>\n",
       "    </tr>\n",
       "    <tr>\n",
       "      <th>654</th>\n",
       "      <td>True</td>\n",
       "      <td>171.97</td>\n",
       "      <td>103.69</td>\n",
       "      <td>103.54</td>\n",
       "      <td>NaN</td>\n",
       "      <td>2.70</td>\n",
       "      <td>112.79</td>\n",
       "    </tr>\n",
       "    <tr>\n",
       "      <th>675</th>\n",
       "      <td>True</td>\n",
       "      <td>171.60</td>\n",
       "      <td>103.85</td>\n",
       "      <td>103.91</td>\n",
       "      <td>NaN</td>\n",
       "      <td>2.56</td>\n",
       "      <td>113.27</td>\n",
       "    </tr>\n",
       "    <tr>\n",
       "      <th>710</th>\n",
       "      <td>True</td>\n",
       "      <td>172.03</td>\n",
       "      <td>103.97</td>\n",
       "      <td>103.86</td>\n",
       "      <td>NaN</td>\n",
       "      <td>3.07</td>\n",
       "      <td>112.65</td>\n",
       "    </tr>\n",
       "    <tr>\n",
       "      <th>739</th>\n",
       "      <td>True</td>\n",
       "      <td>172.07</td>\n",
       "      <td>103.74</td>\n",
       "      <td>103.76</td>\n",
       "      <td>NaN</td>\n",
       "      <td>3.09</td>\n",
       "      <td>112.41</td>\n",
       "    </tr>\n",
       "    <tr>\n",
       "      <th>742</th>\n",
       "      <td>True</td>\n",
       "      <td>172.14</td>\n",
       "      <td>104.06</td>\n",
       "      <td>103.96</td>\n",
       "      <td>NaN</td>\n",
       "      <td>3.24</td>\n",
       "      <td>113.07</td>\n",
       "    </tr>\n",
       "    <tr>\n",
       "      <th>780</th>\n",
       "      <td>True</td>\n",
       "      <td>172.41</td>\n",
       "      <td>103.95</td>\n",
       "      <td>103.79</td>\n",
       "      <td>NaN</td>\n",
       "      <td>3.13</td>\n",
       "      <td>113.41</td>\n",
       "    </tr>\n",
       "    <tr>\n",
       "      <th>798</th>\n",
       "      <td>True</td>\n",
       "      <td>171.96</td>\n",
       "      <td>103.84</td>\n",
       "      <td>103.62</td>\n",
       "      <td>NaN</td>\n",
       "      <td>3.01</td>\n",
       "      <td>114.44</td>\n",
       "    </tr>\n",
       "    <tr>\n",
       "      <th>844</th>\n",
       "      <td>True</td>\n",
       "      <td>171.62</td>\n",
       "      <td>104.14</td>\n",
       "      <td>104.49</td>\n",
       "      <td>NaN</td>\n",
       "      <td>2.99</td>\n",
       "      <td>113.35</td>\n",
       "    </tr>\n",
       "    <tr>\n",
       "      <th>845</th>\n",
       "      <td>True</td>\n",
       "      <td>172.02</td>\n",
       "      <td>104.21</td>\n",
       "      <td>104.05</td>\n",
       "      <td>NaN</td>\n",
       "      <td>2.90</td>\n",
       "      <td>113.62</td>\n",
       "    </tr>\n",
       "    <tr>\n",
       "      <th>871</th>\n",
       "      <td>True</td>\n",
       "      <td>171.37</td>\n",
       "      <td>104.07</td>\n",
       "      <td>103.75</td>\n",
       "      <td>NaN</td>\n",
       "      <td>3.07</td>\n",
       "      <td>113.27</td>\n",
       "    </tr>\n",
       "    <tr>\n",
       "      <th>895</th>\n",
       "      <td>True</td>\n",
       "      <td>171.81</td>\n",
       "      <td>103.68</td>\n",
       "      <td>103.80</td>\n",
       "      <td>NaN</td>\n",
       "      <td>2.98</td>\n",
       "      <td>113.82</td>\n",
       "    </tr>\n",
       "    <tr>\n",
       "      <th>919</th>\n",
       "      <td>True</td>\n",
       "      <td>171.92</td>\n",
       "      <td>103.68</td>\n",
       "      <td>103.45</td>\n",
       "      <td>NaN</td>\n",
       "      <td>2.58</td>\n",
       "      <td>113.68</td>\n",
       "    </tr>\n",
       "    <tr>\n",
       "      <th>945</th>\n",
       "      <td>True</td>\n",
       "      <td>172.09</td>\n",
       "      <td>103.74</td>\n",
       "      <td>103.52</td>\n",
       "      <td>NaN</td>\n",
       "      <td>3.02</td>\n",
       "      <td>112.78</td>\n",
       "    </tr>\n",
       "    <tr>\n",
       "      <th>946</th>\n",
       "      <td>True</td>\n",
       "      <td>171.63</td>\n",
       "      <td>103.87</td>\n",
       "      <td>104.66</td>\n",
       "      <td>NaN</td>\n",
       "      <td>3.27</td>\n",
       "      <td>112.68</td>\n",
       "    </tr>\n",
       "    <tr>\n",
       "      <th>981</th>\n",
       "      <td>True</td>\n",
       "      <td>172.02</td>\n",
       "      <td>104.23</td>\n",
       "      <td>103.72</td>\n",
       "      <td>NaN</td>\n",
       "      <td>2.99</td>\n",
       "      <td>113.37</td>\n",
       "    </tr>\n",
       "    <tr>\n",
       "      <th>1076</th>\n",
       "      <td>False</td>\n",
       "      <td>171.57</td>\n",
       "      <td>104.27</td>\n",
       "      <td>104.44</td>\n",
       "      <td>NaN</td>\n",
       "      <td>3.21</td>\n",
       "      <td>111.87</td>\n",
       "    </tr>\n",
       "    <tr>\n",
       "      <th>1121</th>\n",
       "      <td>False</td>\n",
       "      <td>171.40</td>\n",
       "      <td>104.38</td>\n",
       "      <td>104.19</td>\n",
       "      <td>NaN</td>\n",
       "      <td>3.17</td>\n",
       "      <td>112.39</td>\n",
       "    </tr>\n",
       "    <tr>\n",
       "      <th>1176</th>\n",
       "      <td>False</td>\n",
       "      <td>171.59</td>\n",
       "      <td>104.05</td>\n",
       "      <td>103.94</td>\n",
       "      <td>NaN</td>\n",
       "      <td>3.02</td>\n",
       "      <td>111.29</td>\n",
       "    </tr>\n",
       "    <tr>\n",
       "      <th>1303</th>\n",
       "      <td>False</td>\n",
       "      <td>172.17</td>\n",
       "      <td>104.49</td>\n",
       "      <td>103.76</td>\n",
       "      <td>NaN</td>\n",
       "      <td>2.93</td>\n",
       "      <td>111.21</td>\n",
       "    </tr>\n",
       "    <tr>\n",
       "      <th>1315</th>\n",
       "      <td>False</td>\n",
       "      <td>172.08</td>\n",
       "      <td>104.15</td>\n",
       "      <td>104.17</td>\n",
       "      <td>NaN</td>\n",
       "      <td>3.40</td>\n",
       "      <td>112.29</td>\n",
       "    </tr>\n",
       "    <tr>\n",
       "      <th>1347</th>\n",
       "      <td>False</td>\n",
       "      <td>171.72</td>\n",
       "      <td>104.46</td>\n",
       "      <td>104.12</td>\n",
       "      <td>NaN</td>\n",
       "      <td>3.61</td>\n",
       "      <td>110.31</td>\n",
       "    </tr>\n",
       "    <tr>\n",
       "      <th>1435</th>\n",
       "      <td>False</td>\n",
       "      <td>172.66</td>\n",
       "      <td>104.33</td>\n",
       "      <td>104.41</td>\n",
       "      <td>NaN</td>\n",
       "      <td>3.56</td>\n",
       "      <td>111.47</td>\n",
       "    </tr>\n",
       "    <tr>\n",
       "      <th>1438</th>\n",
       "      <td>False</td>\n",
       "      <td>171.90</td>\n",
       "      <td>104.28</td>\n",
       "      <td>104.29</td>\n",
       "      <td>NaN</td>\n",
       "      <td>3.24</td>\n",
       "      <td>111.49</td>\n",
       "    </tr>\n",
       "  </tbody>\n",
       "</table>\n",
       "</div>"
      ],
      "text/plain": [
       "      is_genuine  diagonal  height_left  height_right  margin_low  margin_up  \\\n",
       "72          True    171.94       103.89        103.45         NaN       3.25   \n",
       "99          True    171.93       104.07        104.18         NaN       3.14   \n",
       "151         True    172.07       103.80        104.38         NaN       3.02   \n",
       "197         True    171.45       103.66        103.80         NaN       3.62   \n",
       "241         True    171.83       104.14        104.06         NaN       3.02   \n",
       "251         True    171.80       103.26        102.82         NaN       2.95   \n",
       "284         True    171.92       103.83        103.76         NaN       3.23   \n",
       "334         True    171.85       103.70        103.96         NaN       3.00   \n",
       "410         True    172.56       103.72        103.51         NaN       3.12   \n",
       "413         True    172.30       103.66        103.50         NaN       3.16   \n",
       "445         True    172.34       104.42        103.22         NaN       3.01   \n",
       "481         True    171.81       103.53        103.96         NaN       2.71   \n",
       "505         True    172.01       103.97        104.05         NaN       2.98   \n",
       "611         True    171.80       103.68        103.49         NaN       3.30   \n",
       "654         True    171.97       103.69        103.54         NaN       2.70   \n",
       "675         True    171.60       103.85        103.91         NaN       2.56   \n",
       "710         True    172.03       103.97        103.86         NaN       3.07   \n",
       "739         True    172.07       103.74        103.76         NaN       3.09   \n",
       "742         True    172.14       104.06        103.96         NaN       3.24   \n",
       "780         True    172.41       103.95        103.79         NaN       3.13   \n",
       "798         True    171.96       103.84        103.62         NaN       3.01   \n",
       "844         True    171.62       104.14        104.49         NaN       2.99   \n",
       "845         True    172.02       104.21        104.05         NaN       2.90   \n",
       "871         True    171.37       104.07        103.75         NaN       3.07   \n",
       "895         True    171.81       103.68        103.80         NaN       2.98   \n",
       "919         True    171.92       103.68        103.45         NaN       2.58   \n",
       "945         True    172.09       103.74        103.52         NaN       3.02   \n",
       "946         True    171.63       103.87        104.66         NaN       3.27   \n",
       "981         True    172.02       104.23        103.72         NaN       2.99   \n",
       "1076       False    171.57       104.27        104.44         NaN       3.21   \n",
       "1121       False    171.40       104.38        104.19         NaN       3.17   \n",
       "1176       False    171.59       104.05        103.94         NaN       3.02   \n",
       "1303       False    172.17       104.49        103.76         NaN       2.93   \n",
       "1315       False    172.08       104.15        104.17         NaN       3.40   \n",
       "1347       False    171.72       104.46        104.12         NaN       3.61   \n",
       "1435       False    172.66       104.33        104.41         NaN       3.56   \n",
       "1438       False    171.90       104.28        104.29         NaN       3.24   \n",
       "\n",
       "      length  \n",
       "72    112.79  \n",
       "99    113.08  \n",
       "151   112.93  \n",
       "197   113.27  \n",
       "241   112.36  \n",
       "251   113.22  \n",
       "284   113.29  \n",
       "334   113.36  \n",
       "410   112.95  \n",
       "413   112.95  \n",
       "445   112.97  \n",
       "481   113.99  \n",
       "505   113.65  \n",
       "611   112.84  \n",
       "654   112.79  \n",
       "675   113.27  \n",
       "710   112.65  \n",
       "739   112.41  \n",
       "742   113.07  \n",
       "780   113.41  \n",
       "798   114.44  \n",
       "844   113.35  \n",
       "845   113.62  \n",
       "871   113.27  \n",
       "895   113.82  \n",
       "919   113.68  \n",
       "945   112.78  \n",
       "946   112.68  \n",
       "981   113.37  \n",
       "1076  111.87  \n",
       "1121  112.39  \n",
       "1176  111.29  \n",
       "1303  111.21  \n",
       "1315  112.29  \n",
       "1347  110.31  \n",
       "1435  111.47  \n",
       "1438  111.49  "
      ]
     },
     "execution_count": 5,
     "metadata": {},
     "output_type": "execute_result"
    }
   ],
   "source": [
    "null_df = billets[billets.isnull().any(axis=1)]\n",
    "\n",
    "null_df"
   ]
  },
  {
   "cell_type": "code",
   "execution_count": 6,
   "id": "e97f92ff",
   "metadata": {},
   "outputs": [
    {
     "name": "stdout",
     "output_type": "stream",
     "text": [
      "<class 'pandas.core.frame.DataFrame'>\n",
      "RangeIndex: 1500 entries, 0 to 1499\n",
      "Data columns (total 7 columns):\n",
      " #   Column        Non-Null Count  Dtype  \n",
      "---  ------        --------------  -----  \n",
      " 0   is_genuine    1500 non-null   bool   \n",
      " 1   diagonal      1500 non-null   float64\n",
      " 2   height_left   1500 non-null   float64\n",
      " 3   height_right  1500 non-null   float64\n",
      " 4   margin_low    1463 non-null   float64\n",
      " 5   margin_up     1500 non-null   float64\n",
      " 6   length        1500 non-null   float64\n",
      "dtypes: bool(1), float64(6)\n",
      "memory usage: 71.9 KB\n"
     ]
    }
   ],
   "source": [
    "billets.info()"
   ]
  },
  {
   "cell_type": "code",
   "execution_count": 7,
   "id": "514d7d02",
   "metadata": {},
   "outputs": [
    {
     "data": {
      "text/html": [
       "<div>\n",
       "<style scoped>\n",
       "    .dataframe tbody tr th:only-of-type {\n",
       "        vertical-align: middle;\n",
       "    }\n",
       "\n",
       "    .dataframe tbody tr th {\n",
       "        vertical-align: top;\n",
       "    }\n",
       "\n",
       "    .dataframe thead th {\n",
       "        text-align: right;\n",
       "    }\n",
       "</style>\n",
       "<table border=\"1\" class=\"dataframe\">\n",
       "  <thead>\n",
       "    <tr style=\"text-align: right;\">\n",
       "      <th></th>\n",
       "      <th>is_genuine</th>\n",
       "      <th>diagonal</th>\n",
       "      <th>height_left</th>\n",
       "      <th>height_right</th>\n",
       "      <th>margin_low</th>\n",
       "      <th>margin_up</th>\n",
       "      <th>length</th>\n",
       "    </tr>\n",
       "  </thead>\n",
       "  <tbody>\n",
       "    <tr>\n",
       "      <th>0</th>\n",
       "      <td>True</td>\n",
       "      <td>171.81</td>\n",
       "      <td>104.86</td>\n",
       "      <td>104.95</td>\n",
       "      <td>4.52</td>\n",
       "      <td>2.89</td>\n",
       "      <td>112.83</td>\n",
       "    </tr>\n",
       "    <tr>\n",
       "      <th>1</th>\n",
       "      <td>True</td>\n",
       "      <td>171.46</td>\n",
       "      <td>103.36</td>\n",
       "      <td>103.66</td>\n",
       "      <td>3.77</td>\n",
       "      <td>2.99</td>\n",
       "      <td>113.09</td>\n",
       "    </tr>\n",
       "    <tr>\n",
       "      <th>2</th>\n",
       "      <td>True</td>\n",
       "      <td>172.69</td>\n",
       "      <td>104.48</td>\n",
       "      <td>103.50</td>\n",
       "      <td>4.40</td>\n",
       "      <td>2.94</td>\n",
       "      <td>113.16</td>\n",
       "    </tr>\n",
       "    <tr>\n",
       "      <th>3</th>\n",
       "      <td>True</td>\n",
       "      <td>171.36</td>\n",
       "      <td>103.91</td>\n",
       "      <td>103.94</td>\n",
       "      <td>3.62</td>\n",
       "      <td>3.01</td>\n",
       "      <td>113.51</td>\n",
       "    </tr>\n",
       "    <tr>\n",
       "      <th>4</th>\n",
       "      <td>True</td>\n",
       "      <td>171.73</td>\n",
       "      <td>104.28</td>\n",
       "      <td>103.46</td>\n",
       "      <td>4.04</td>\n",
       "      <td>3.48</td>\n",
       "      <td>112.54</td>\n",
       "    </tr>\n",
       "    <tr>\n",
       "      <th>...</th>\n",
       "      <td>...</td>\n",
       "      <td>...</td>\n",
       "      <td>...</td>\n",
       "      <td>...</td>\n",
       "      <td>...</td>\n",
       "      <td>...</td>\n",
       "      <td>...</td>\n",
       "    </tr>\n",
       "    <tr>\n",
       "      <th>1495</th>\n",
       "      <td>False</td>\n",
       "      <td>171.75</td>\n",
       "      <td>104.38</td>\n",
       "      <td>104.17</td>\n",
       "      <td>4.42</td>\n",
       "      <td>3.09</td>\n",
       "      <td>111.28</td>\n",
       "    </tr>\n",
       "    <tr>\n",
       "      <th>1496</th>\n",
       "      <td>False</td>\n",
       "      <td>172.19</td>\n",
       "      <td>104.63</td>\n",
       "      <td>104.44</td>\n",
       "      <td>5.27</td>\n",
       "      <td>3.37</td>\n",
       "      <td>110.97</td>\n",
       "    </tr>\n",
       "    <tr>\n",
       "      <th>1497</th>\n",
       "      <td>False</td>\n",
       "      <td>171.80</td>\n",
       "      <td>104.01</td>\n",
       "      <td>104.12</td>\n",
       "      <td>5.51</td>\n",
       "      <td>3.36</td>\n",
       "      <td>111.95</td>\n",
       "    </tr>\n",
       "    <tr>\n",
       "      <th>1498</th>\n",
       "      <td>False</td>\n",
       "      <td>172.06</td>\n",
       "      <td>104.28</td>\n",
       "      <td>104.06</td>\n",
       "      <td>5.17</td>\n",
       "      <td>3.46</td>\n",
       "      <td>112.25</td>\n",
       "    </tr>\n",
       "    <tr>\n",
       "      <th>1499</th>\n",
       "      <td>False</td>\n",
       "      <td>171.47</td>\n",
       "      <td>104.15</td>\n",
       "      <td>103.82</td>\n",
       "      <td>4.63</td>\n",
       "      <td>3.37</td>\n",
       "      <td>112.07</td>\n",
       "    </tr>\n",
       "  </tbody>\n",
       "</table>\n",
       "<p>1500 rows × 7 columns</p>\n",
       "</div>"
      ],
      "text/plain": [
       "      is_genuine  diagonal  height_left  height_right  margin_low  margin_up  \\\n",
       "0           True    171.81       104.86        104.95        4.52       2.89   \n",
       "1           True    171.46       103.36        103.66        3.77       2.99   \n",
       "2           True    172.69       104.48        103.50        4.40       2.94   \n",
       "3           True    171.36       103.91        103.94        3.62       3.01   \n",
       "4           True    171.73       104.28        103.46        4.04       3.48   \n",
       "...          ...       ...          ...           ...         ...        ...   \n",
       "1495       False    171.75       104.38        104.17        4.42       3.09   \n",
       "1496       False    172.19       104.63        104.44        5.27       3.37   \n",
       "1497       False    171.80       104.01        104.12        5.51       3.36   \n",
       "1498       False    172.06       104.28        104.06        5.17       3.46   \n",
       "1499       False    171.47       104.15        103.82        4.63       3.37   \n",
       "\n",
       "      length  \n",
       "0     112.83  \n",
       "1     113.09  \n",
       "2     113.16  \n",
       "3     113.51  \n",
       "4     112.54  \n",
       "...      ...  \n",
       "1495  111.28  \n",
       "1496  110.97  \n",
       "1497  111.95  \n",
       "1498  112.25  \n",
       "1499  112.07  \n",
       "\n",
       "[1500 rows x 7 columns]"
      ]
     },
     "execution_count": 7,
     "metadata": {},
     "output_type": "execute_result"
    }
   ],
   "source": [
    "billets_fil = billets.fillna(0)\n",
    "billets_fil"
   ]
  },
  {
   "cell_type": "code",
   "execution_count": 8,
   "id": "d5074d00",
   "metadata": {},
   "outputs": [
    {
     "name": "stdout",
     "output_type": "stream",
     "text": [
      "<class 'pandas.core.frame.DataFrame'>\n",
      "RangeIndex: 1500 entries, 0 to 1499\n",
      "Data columns (total 7 columns):\n",
      " #   Column        Non-Null Count  Dtype  \n",
      "---  ------        --------------  -----  \n",
      " 0   is_genuine    1500 non-null   bool   \n",
      " 1   diagonal      1500 non-null   float64\n",
      " 2   height_left   1500 non-null   float64\n",
      " 3   height_right  1500 non-null   float64\n",
      " 4   margin_low    1500 non-null   float64\n",
      " 5   margin_up     1500 non-null   float64\n",
      " 6   length        1500 non-null   float64\n",
      "dtypes: bool(1), float64(6)\n",
      "memory usage: 71.9 KB\n"
     ]
    }
   ],
   "source": [
    "billets_fil.info()"
   ]
  },
  {
   "cell_type": "code",
   "execution_count": 9,
   "id": "1782d57e",
   "metadata": {},
   "outputs": [
    {
     "data": {
      "text/plain": [
       "0"
      ]
     },
     "execution_count": 9,
     "metadata": {},
     "output_type": "execute_result"
    }
   ],
   "source": [
    "billets_fil.duplicated().sum()"
   ]
  },
  {
   "cell_type": "markdown",
   "id": "1f59bb30",
   "metadata": {},
   "source": [
    "- Reminder : sample are the rows, features are the columns\n",
    "- we have 1500 features and 7 samples"
   ]
  },
  {
   "cell_type": "code",
   "execution_count": 10,
   "id": "5c5f656f",
   "metadata": {},
   "outputs": [
    {
     "data": {
      "text/plain": [
       "(1500, 7)"
      ]
     },
     "execution_count": 10,
     "metadata": {},
     "output_type": "execute_result"
    }
   ],
   "source": [
    "billets_fil.shape"
   ]
  },
  {
   "cell_type": "code",
   "execution_count": 11,
   "id": "c9353ed6",
   "metadata": {},
   "outputs": [
    {
     "data": {
      "text/plain": [
       "Index(['is_genuine', 'diagonal', 'height_left', 'height_right', 'margin_low',\n",
       "       'margin_up', 'length'],\n",
       "      dtype='object')"
      ]
     },
     "execution_count": 11,
     "metadata": {},
     "output_type": "execute_result"
    }
   ],
   "source": [
    "billets_fil.keys()"
   ]
  },
  {
   "cell_type": "code",
   "execution_count": 12,
   "id": "6e804328",
   "metadata": {},
   "outputs": [
    {
     "data": {
      "text/plain": [
       "True     1000\n",
       "False     500\n",
       "Name: is_genuine, dtype: int64"
      ]
     },
     "execution_count": 12,
     "metadata": {},
     "output_type": "execute_result"
    }
   ],
   "source": [
    "billets_fil['is_genuine'].value_counts()"
   ]
  },
  {
   "cell_type": "code",
   "execution_count": 13,
   "id": "86e911bc",
   "metadata": {},
   "outputs": [
    {
     "data": {
      "text/plain": [
       "is_genuine        0.666667\n",
       "diagonal        171.958440\n",
       "height_left     104.029533\n",
       "height_right    103.920307\n",
       "margin_low        4.375313\n",
       "margin_up         3.151473\n",
       "length          112.678500\n",
       "dtype: float64"
      ]
     },
     "execution_count": 13,
     "metadata": {},
     "output_type": "execute_result"
    }
   ],
   "source": [
    "# the mean of each columns \n",
    "billets_fil.mean() "
   ]
  },
  {
   "cell_type": "code",
   "execution_count": 14,
   "id": "62775604",
   "metadata": {},
   "outputs": [
    {
     "data": {
      "text/plain": [
       "is_genuine        1.00\n",
       "diagonal        171.96\n",
       "height_left     104.04\n",
       "height_right    103.92\n",
       "margin_low        4.30\n",
       "margin_up         3.14\n",
       "length          112.96\n",
       "dtype: float64"
      ]
     },
     "execution_count": 14,
     "metadata": {},
     "output_type": "execute_result"
    }
   ],
   "source": [
    "billets_fil.median()"
   ]
  },
  {
   "cell_type": "code",
   "execution_count": null,
   "id": "9aca8516",
   "metadata": {},
   "outputs": [],
   "source": []
  },
  {
   "cell_type": "markdown",
   "id": "38347aa5",
   "metadata": {},
   "source": [
    "# summary stat "
   ]
  },
  {
   "cell_type": "code",
   "execution_count": 15,
   "id": "d9596c9f",
   "metadata": {},
   "outputs": [
    {
     "data": {
      "text/html": [
       "<div>\n",
       "<style scoped>\n",
       "    .dataframe tbody tr th:only-of-type {\n",
       "        vertical-align: middle;\n",
       "    }\n",
       "\n",
       "    .dataframe tbody tr th {\n",
       "        vertical-align: top;\n",
       "    }\n",
       "\n",
       "    .dataframe thead th {\n",
       "        text-align: right;\n",
       "    }\n",
       "</style>\n",
       "<table border=\"1\" class=\"dataframe\">\n",
       "  <thead>\n",
       "    <tr style=\"text-align: right;\">\n",
       "      <th></th>\n",
       "      <th>is_genuine</th>\n",
       "      <th>diagonal</th>\n",
       "      <th>height_left</th>\n",
       "      <th>height_right</th>\n",
       "      <th>margin_low</th>\n",
       "      <th>margin_up</th>\n",
       "      <th>length</th>\n",
       "    </tr>\n",
       "  </thead>\n",
       "  <tbody>\n",
       "    <tr>\n",
       "      <th>0</th>\n",
       "      <td>True</td>\n",
       "      <td>171.81</td>\n",
       "      <td>104.86</td>\n",
       "      <td>104.95</td>\n",
       "      <td>4.52</td>\n",
       "      <td>2.89</td>\n",
       "      <td>112.83</td>\n",
       "    </tr>\n",
       "    <tr>\n",
       "      <th>1</th>\n",
       "      <td>True</td>\n",
       "      <td>171.46</td>\n",
       "      <td>103.36</td>\n",
       "      <td>103.66</td>\n",
       "      <td>3.77</td>\n",
       "      <td>2.99</td>\n",
       "      <td>113.09</td>\n",
       "    </tr>\n",
       "    <tr>\n",
       "      <th>2</th>\n",
       "      <td>True</td>\n",
       "      <td>172.69</td>\n",
       "      <td>104.48</td>\n",
       "      <td>103.50</td>\n",
       "      <td>4.40</td>\n",
       "      <td>2.94</td>\n",
       "      <td>113.16</td>\n",
       "    </tr>\n",
       "    <tr>\n",
       "      <th>3</th>\n",
       "      <td>True</td>\n",
       "      <td>171.36</td>\n",
       "      <td>103.91</td>\n",
       "      <td>103.94</td>\n",
       "      <td>3.62</td>\n",
       "      <td>3.01</td>\n",
       "      <td>113.51</td>\n",
       "    </tr>\n",
       "    <tr>\n",
       "      <th>4</th>\n",
       "      <td>True</td>\n",
       "      <td>171.73</td>\n",
       "      <td>104.28</td>\n",
       "      <td>103.46</td>\n",
       "      <td>4.04</td>\n",
       "      <td>3.48</td>\n",
       "      <td>112.54</td>\n",
       "    </tr>\n",
       "    <tr>\n",
       "      <th>...</th>\n",
       "      <td>...</td>\n",
       "      <td>...</td>\n",
       "      <td>...</td>\n",
       "      <td>...</td>\n",
       "      <td>...</td>\n",
       "      <td>...</td>\n",
       "      <td>...</td>\n",
       "    </tr>\n",
       "    <tr>\n",
       "      <th>1495</th>\n",
       "      <td>False</td>\n",
       "      <td>171.75</td>\n",
       "      <td>104.38</td>\n",
       "      <td>104.17</td>\n",
       "      <td>4.42</td>\n",
       "      <td>3.09</td>\n",
       "      <td>111.28</td>\n",
       "    </tr>\n",
       "    <tr>\n",
       "      <th>1496</th>\n",
       "      <td>False</td>\n",
       "      <td>172.19</td>\n",
       "      <td>104.63</td>\n",
       "      <td>104.44</td>\n",
       "      <td>5.27</td>\n",
       "      <td>3.37</td>\n",
       "      <td>110.97</td>\n",
       "    </tr>\n",
       "    <tr>\n",
       "      <th>1497</th>\n",
       "      <td>False</td>\n",
       "      <td>171.80</td>\n",
       "      <td>104.01</td>\n",
       "      <td>104.12</td>\n",
       "      <td>5.51</td>\n",
       "      <td>3.36</td>\n",
       "      <td>111.95</td>\n",
       "    </tr>\n",
       "    <tr>\n",
       "      <th>1498</th>\n",
       "      <td>False</td>\n",
       "      <td>172.06</td>\n",
       "      <td>104.28</td>\n",
       "      <td>104.06</td>\n",
       "      <td>5.17</td>\n",
       "      <td>3.46</td>\n",
       "      <td>112.25</td>\n",
       "    </tr>\n",
       "    <tr>\n",
       "      <th>1499</th>\n",
       "      <td>False</td>\n",
       "      <td>171.47</td>\n",
       "      <td>104.15</td>\n",
       "      <td>103.82</td>\n",
       "      <td>4.63</td>\n",
       "      <td>3.37</td>\n",
       "      <td>112.07</td>\n",
       "    </tr>\n",
       "  </tbody>\n",
       "</table>\n",
       "<p>1500 rows × 7 columns</p>\n",
       "</div>"
      ],
      "text/plain": [
       "      is_genuine  diagonal  height_left  height_right  margin_low  margin_up  \\\n",
       "0           True    171.81       104.86        104.95        4.52       2.89   \n",
       "1           True    171.46       103.36        103.66        3.77       2.99   \n",
       "2           True    172.69       104.48        103.50        4.40       2.94   \n",
       "3           True    171.36       103.91        103.94        3.62       3.01   \n",
       "4           True    171.73       104.28        103.46        4.04       3.48   \n",
       "...          ...       ...          ...           ...         ...        ...   \n",
       "1495       False    171.75       104.38        104.17        4.42       3.09   \n",
       "1496       False    172.19       104.63        104.44        5.27       3.37   \n",
       "1497       False    171.80       104.01        104.12        5.51       3.36   \n",
       "1498       False    172.06       104.28        104.06        5.17       3.46   \n",
       "1499       False    171.47       104.15        103.82        4.63       3.37   \n",
       "\n",
       "      length  \n",
       "0     112.83  \n",
       "1     113.09  \n",
       "2     113.16  \n",
       "3     113.51  \n",
       "4     112.54  \n",
       "...      ...  \n",
       "1495  111.28  \n",
       "1496  110.97  \n",
       "1497  111.95  \n",
       "1498  112.25  \n",
       "1499  112.07  \n",
       "\n",
       "[1500 rows x 7 columns]"
      ]
     },
     "execution_count": 15,
     "metadata": {},
     "output_type": "execute_result"
    }
   ],
   "source": [
    "billets_fil"
   ]
  },
  {
   "cell_type": "code",
   "execution_count": 16,
   "id": "fb3b13bf",
   "metadata": {},
   "outputs": [
    {
     "data": {
      "text/html": [
       "<div>\n",
       "<style scoped>\n",
       "    .dataframe tbody tr th:only-of-type {\n",
       "        vertical-align: middle;\n",
       "    }\n",
       "\n",
       "    .dataframe tbody tr th {\n",
       "        vertical-align: top;\n",
       "    }\n",
       "\n",
       "    .dataframe thead th {\n",
       "        text-align: right;\n",
       "    }\n",
       "</style>\n",
       "<table border=\"1\" class=\"dataframe\">\n",
       "  <thead>\n",
       "    <tr style=\"text-align: right;\">\n",
       "      <th></th>\n",
       "      <th>is_genuine</th>\n",
       "      <th>diagonal</th>\n",
       "      <th>height_left</th>\n",
       "      <th>height_right</th>\n",
       "      <th>margin_low</th>\n",
       "      <th>margin_up</th>\n",
       "      <th>length</th>\n",
       "    </tr>\n",
       "  </thead>\n",
       "  <tbody>\n",
       "    <tr>\n",
       "      <th>0</th>\n",
       "      <td>True</td>\n",
       "      <td>171.81</td>\n",
       "      <td>104.86</td>\n",
       "      <td>104.95</td>\n",
       "      <td>4.52</td>\n",
       "      <td>2.89</td>\n",
       "      <td>112.83</td>\n",
       "    </tr>\n",
       "    <tr>\n",
       "      <th>1</th>\n",
       "      <td>True</td>\n",
       "      <td>171.46</td>\n",
       "      <td>103.36</td>\n",
       "      <td>103.66</td>\n",
       "      <td>3.77</td>\n",
       "      <td>2.99</td>\n",
       "      <td>113.09</td>\n",
       "    </tr>\n",
       "    <tr>\n",
       "      <th>2</th>\n",
       "      <td>True</td>\n",
       "      <td>172.69</td>\n",
       "      <td>104.48</td>\n",
       "      <td>103.50</td>\n",
       "      <td>4.40</td>\n",
       "      <td>2.94</td>\n",
       "      <td>113.16</td>\n",
       "    </tr>\n",
       "    <tr>\n",
       "      <th>3</th>\n",
       "      <td>True</td>\n",
       "      <td>171.36</td>\n",
       "      <td>103.91</td>\n",
       "      <td>103.94</td>\n",
       "      <td>3.62</td>\n",
       "      <td>3.01</td>\n",
       "      <td>113.51</td>\n",
       "    </tr>\n",
       "    <tr>\n",
       "      <th>4</th>\n",
       "      <td>True</td>\n",
       "      <td>171.73</td>\n",
       "      <td>104.28</td>\n",
       "      <td>103.46</td>\n",
       "      <td>4.04</td>\n",
       "      <td>3.48</td>\n",
       "      <td>112.54</td>\n",
       "    </tr>\n",
       "    <tr>\n",
       "      <th>...</th>\n",
       "      <td>...</td>\n",
       "      <td>...</td>\n",
       "      <td>...</td>\n",
       "      <td>...</td>\n",
       "      <td>...</td>\n",
       "      <td>...</td>\n",
       "      <td>...</td>\n",
       "    </tr>\n",
       "    <tr>\n",
       "      <th>995</th>\n",
       "      <td>True</td>\n",
       "      <td>171.66</td>\n",
       "      <td>103.92</td>\n",
       "      <td>103.47</td>\n",
       "      <td>4.26</td>\n",
       "      <td>2.83</td>\n",
       "      <td>113.20</td>\n",
       "    </tr>\n",
       "    <tr>\n",
       "      <th>996</th>\n",
       "      <td>True</td>\n",
       "      <td>172.16</td>\n",
       "      <td>103.72</td>\n",
       "      <td>103.61</td>\n",
       "      <td>4.30</td>\n",
       "      <td>2.72</td>\n",
       "      <td>113.51</td>\n",
       "    </tr>\n",
       "    <tr>\n",
       "      <th>997</th>\n",
       "      <td>True</td>\n",
       "      <td>171.78</td>\n",
       "      <td>103.38</td>\n",
       "      <td>104.22</td>\n",
       "      <td>4.23</td>\n",
       "      <td>3.07</td>\n",
       "      <td>113.77</td>\n",
       "    </tr>\n",
       "    <tr>\n",
       "      <th>998</th>\n",
       "      <td>True</td>\n",
       "      <td>171.44</td>\n",
       "      <td>103.96</td>\n",
       "      <td>103.92</td>\n",
       "      <td>3.68</td>\n",
       "      <td>2.89</td>\n",
       "      <td>113.21</td>\n",
       "    </tr>\n",
       "    <tr>\n",
       "      <th>999</th>\n",
       "      <td>True</td>\n",
       "      <td>171.56</td>\n",
       "      <td>104.07</td>\n",
       "      <td>103.58</td>\n",
       "      <td>3.55</td>\n",
       "      <td>3.02</td>\n",
       "      <td>112.96</td>\n",
       "    </tr>\n",
       "  </tbody>\n",
       "</table>\n",
       "<p>1000 rows × 7 columns</p>\n",
       "</div>"
      ],
      "text/plain": [
       "     is_genuine  diagonal  height_left  height_right  margin_low  margin_up  \\\n",
       "0          True    171.81       104.86        104.95        4.52       2.89   \n",
       "1          True    171.46       103.36        103.66        3.77       2.99   \n",
       "2          True    172.69       104.48        103.50        4.40       2.94   \n",
       "3          True    171.36       103.91        103.94        3.62       3.01   \n",
       "4          True    171.73       104.28        103.46        4.04       3.48   \n",
       "..          ...       ...          ...           ...         ...        ...   \n",
       "995        True    171.66       103.92        103.47        4.26       2.83   \n",
       "996        True    172.16       103.72        103.61        4.30       2.72   \n",
       "997        True    171.78       103.38        104.22        4.23       3.07   \n",
       "998        True    171.44       103.96        103.92        3.68       2.89   \n",
       "999        True    171.56       104.07        103.58        3.55       3.02   \n",
       "\n",
       "     length  \n",
       "0    112.83  \n",
       "1    113.09  \n",
       "2    113.16  \n",
       "3    113.51  \n",
       "4    112.54  \n",
       "..      ...  \n",
       "995  113.20  \n",
       "996  113.51  \n",
       "997  113.77  \n",
       "998  113.21  \n",
       "999  112.96  \n",
       "\n",
       "[1000 rows x 7 columns]"
      ]
     },
     "execution_count": 16,
     "metadata": {},
     "output_type": "execute_result"
    }
   ],
   "source": [
    "# 1000 banknots are True \n",
    "true = billets_fil[billets_fil['is_genuine']== True]\n",
    "true"
   ]
  },
  {
   "cell_type": "markdown",
   "id": "4622e1cd",
   "metadata": {},
   "source": [
    "# check the outliers "
   ]
  },
  {
   "cell_type": "code",
   "execution_count": 17,
   "id": "0bd90ccf",
   "metadata": {},
   "outputs": [
    {
     "data": {
      "text/html": [
       "<div>\n",
       "<style scoped>\n",
       "    .dataframe tbody tr th:only-of-type {\n",
       "        vertical-align: middle;\n",
       "    }\n",
       "\n",
       "    .dataframe tbody tr th {\n",
       "        vertical-align: top;\n",
       "    }\n",
       "\n",
       "    .dataframe thead th {\n",
       "        text-align: right;\n",
       "    }\n",
       "</style>\n",
       "<table border=\"1\" class=\"dataframe\">\n",
       "  <thead>\n",
       "    <tr style=\"text-align: right;\">\n",
       "      <th></th>\n",
       "      <th>is_genuine</th>\n",
       "      <th>diagonal</th>\n",
       "      <th>height_left</th>\n",
       "      <th>height_right</th>\n",
       "      <th>margin_low</th>\n",
       "      <th>margin_up</th>\n",
       "      <th>length</th>\n",
       "    </tr>\n",
       "  </thead>\n",
       "  <tbody>\n",
       "    <tr>\n",
       "      <th>0</th>\n",
       "      <td>True</td>\n",
       "      <td>171.81</td>\n",
       "      <td>104.86</td>\n",
       "      <td>104.95</td>\n",
       "      <td>4.52</td>\n",
       "      <td>2.89</td>\n",
       "      <td>112.83</td>\n",
       "    </tr>\n",
       "    <tr>\n",
       "      <th>1</th>\n",
       "      <td>True</td>\n",
       "      <td>171.46</td>\n",
       "      <td>103.36</td>\n",
       "      <td>103.66</td>\n",
       "      <td>3.77</td>\n",
       "      <td>2.99</td>\n",
       "      <td>113.09</td>\n",
       "    </tr>\n",
       "    <tr>\n",
       "      <th>2</th>\n",
       "      <td>True</td>\n",
       "      <td>172.69</td>\n",
       "      <td>104.48</td>\n",
       "      <td>103.50</td>\n",
       "      <td>4.40</td>\n",
       "      <td>2.94</td>\n",
       "      <td>113.16</td>\n",
       "    </tr>\n",
       "    <tr>\n",
       "      <th>3</th>\n",
       "      <td>True</td>\n",
       "      <td>171.36</td>\n",
       "      <td>103.91</td>\n",
       "      <td>103.94</td>\n",
       "      <td>3.62</td>\n",
       "      <td>3.01</td>\n",
       "      <td>113.51</td>\n",
       "    </tr>\n",
       "    <tr>\n",
       "      <th>4</th>\n",
       "      <td>True</td>\n",
       "      <td>171.73</td>\n",
       "      <td>104.28</td>\n",
       "      <td>103.46</td>\n",
       "      <td>4.04</td>\n",
       "      <td>3.48</td>\n",
       "      <td>112.54</td>\n",
       "    </tr>\n",
       "    <tr>\n",
       "      <th>...</th>\n",
       "      <td>...</td>\n",
       "      <td>...</td>\n",
       "      <td>...</td>\n",
       "      <td>...</td>\n",
       "      <td>...</td>\n",
       "      <td>...</td>\n",
       "      <td>...</td>\n",
       "    </tr>\n",
       "    <tr>\n",
       "      <th>1495</th>\n",
       "      <td>False</td>\n",
       "      <td>171.75</td>\n",
       "      <td>104.38</td>\n",
       "      <td>104.17</td>\n",
       "      <td>4.42</td>\n",
       "      <td>3.09</td>\n",
       "      <td>111.28</td>\n",
       "    </tr>\n",
       "    <tr>\n",
       "      <th>1496</th>\n",
       "      <td>False</td>\n",
       "      <td>172.19</td>\n",
       "      <td>104.63</td>\n",
       "      <td>104.44</td>\n",
       "      <td>5.27</td>\n",
       "      <td>3.37</td>\n",
       "      <td>110.97</td>\n",
       "    </tr>\n",
       "    <tr>\n",
       "      <th>1497</th>\n",
       "      <td>False</td>\n",
       "      <td>171.80</td>\n",
       "      <td>104.01</td>\n",
       "      <td>104.12</td>\n",
       "      <td>5.51</td>\n",
       "      <td>3.36</td>\n",
       "      <td>111.95</td>\n",
       "    </tr>\n",
       "    <tr>\n",
       "      <th>1498</th>\n",
       "      <td>False</td>\n",
       "      <td>172.06</td>\n",
       "      <td>104.28</td>\n",
       "      <td>104.06</td>\n",
       "      <td>5.17</td>\n",
       "      <td>3.46</td>\n",
       "      <td>112.25</td>\n",
       "    </tr>\n",
       "    <tr>\n",
       "      <th>1499</th>\n",
       "      <td>False</td>\n",
       "      <td>171.47</td>\n",
       "      <td>104.15</td>\n",
       "      <td>103.82</td>\n",
       "      <td>4.63</td>\n",
       "      <td>3.37</td>\n",
       "      <td>112.07</td>\n",
       "    </tr>\n",
       "  </tbody>\n",
       "</table>\n",
       "<p>1500 rows × 7 columns</p>\n",
       "</div>"
      ],
      "text/plain": [
       "      is_genuine  diagonal  height_left  height_right  margin_low  margin_up  \\\n",
       "0           True    171.81       104.86        104.95        4.52       2.89   \n",
       "1           True    171.46       103.36        103.66        3.77       2.99   \n",
       "2           True    172.69       104.48        103.50        4.40       2.94   \n",
       "3           True    171.36       103.91        103.94        3.62       3.01   \n",
       "4           True    171.73       104.28        103.46        4.04       3.48   \n",
       "...          ...       ...          ...           ...         ...        ...   \n",
       "1495       False    171.75       104.38        104.17        4.42       3.09   \n",
       "1496       False    172.19       104.63        104.44        5.27       3.37   \n",
       "1497       False    171.80       104.01        104.12        5.51       3.36   \n",
       "1498       False    172.06       104.28        104.06        5.17       3.46   \n",
       "1499       False    171.47       104.15        103.82        4.63       3.37   \n",
       "\n",
       "      length  \n",
       "0     112.83  \n",
       "1     113.09  \n",
       "2     113.16  \n",
       "3     113.51  \n",
       "4     112.54  \n",
       "...      ...  \n",
       "1495  111.28  \n",
       "1496  110.97  \n",
       "1497  111.95  \n",
       "1498  112.25  \n",
       "1499  112.07  \n",
       "\n",
       "[1500 rows x 7 columns]"
      ]
     },
     "execution_count": 17,
     "metadata": {},
     "output_type": "execute_result"
    }
   ],
   "source": [
    "billets_fil"
   ]
  },
  {
   "cell_type": "code",
   "execution_count": 18,
   "id": "670aa417",
   "metadata": {},
   "outputs": [
    {
     "name": "stdout",
     "output_type": "stream",
     "text": [
      "<class 'pandas.core.frame.DataFrame'>\n",
      "RangeIndex: 1500 entries, 0 to 1499\n",
      "Data columns (total 7 columns):\n",
      " #   Column        Non-Null Count  Dtype  \n",
      "---  ------        --------------  -----  \n",
      " 0   is_genuine    1500 non-null   bool   \n",
      " 1   diagonal      1500 non-null   float64\n",
      " 2   height_left   1500 non-null   float64\n",
      " 3   height_right  1500 non-null   float64\n",
      " 4   margin_low    1500 non-null   float64\n",
      " 5   margin_up     1500 non-null   float64\n",
      " 6   length        1500 non-null   float64\n",
      "dtypes: bool(1), float64(6)\n",
      "memory usage: 71.9 KB\n"
     ]
    }
   ],
   "source": [
    "billets_fil.info()"
   ]
  },
  {
   "cell_type": "code",
   "execution_count": 19,
   "id": "25d6ce15",
   "metadata": {},
   "outputs": [
    {
     "data": {
      "text/html": [
       "<div>\n",
       "<style scoped>\n",
       "    .dataframe tbody tr th:only-of-type {\n",
       "        vertical-align: middle;\n",
       "    }\n",
       "\n",
       "    .dataframe tbody tr th {\n",
       "        vertical-align: top;\n",
       "    }\n",
       "\n",
       "    .dataframe thead th {\n",
       "        text-align: right;\n",
       "    }\n",
       "</style>\n",
       "<table border=\"1\" class=\"dataframe\">\n",
       "  <thead>\n",
       "    <tr style=\"text-align: right;\">\n",
       "      <th></th>\n",
       "      <th>diagonal</th>\n",
       "      <th>height_left</th>\n",
       "      <th>height_right</th>\n",
       "      <th>margin_low</th>\n",
       "      <th>margin_up</th>\n",
       "      <th>length</th>\n",
       "    </tr>\n",
       "  </thead>\n",
       "  <tbody>\n",
       "    <tr>\n",
       "      <th>count</th>\n",
       "      <td>1500.000000</td>\n",
       "      <td>1500.000000</td>\n",
       "      <td>1500.000000</td>\n",
       "      <td>1500.000000</td>\n",
       "      <td>1500.000000</td>\n",
       "      <td>1500.00000</td>\n",
       "    </tr>\n",
       "    <tr>\n",
       "      <th>mean</th>\n",
       "      <td>171.958440</td>\n",
       "      <td>104.029533</td>\n",
       "      <td>103.920307</td>\n",
       "      <td>4.375313</td>\n",
       "      <td>3.151473</td>\n",
       "      <td>112.67850</td>\n",
       "    </tr>\n",
       "    <tr>\n",
       "      <th>std</th>\n",
       "      <td>0.305195</td>\n",
       "      <td>0.299462</td>\n",
       "      <td>0.325627</td>\n",
       "      <td>0.956158</td>\n",
       "      <td>0.231813</td>\n",
       "      <td>0.87273</td>\n",
       "    </tr>\n",
       "    <tr>\n",
       "      <th>min</th>\n",
       "      <td>171.040000</td>\n",
       "      <td>103.140000</td>\n",
       "      <td>102.820000</td>\n",
       "      <td>0.000000</td>\n",
       "      <td>2.270000</td>\n",
       "      <td>109.49000</td>\n",
       "    </tr>\n",
       "    <tr>\n",
       "      <th>25%</th>\n",
       "      <td>171.750000</td>\n",
       "      <td>103.820000</td>\n",
       "      <td>103.710000</td>\n",
       "      <td>3.990000</td>\n",
       "      <td>2.990000</td>\n",
       "      <td>112.03000</td>\n",
       "    </tr>\n",
       "    <tr>\n",
       "      <th>50%</th>\n",
       "      <td>171.960000</td>\n",
       "      <td>104.040000</td>\n",
       "      <td>103.920000</td>\n",
       "      <td>4.300000</td>\n",
       "      <td>3.140000</td>\n",
       "      <td>112.96000</td>\n",
       "    </tr>\n",
       "    <tr>\n",
       "      <th>75%</th>\n",
       "      <td>172.170000</td>\n",
       "      <td>104.230000</td>\n",
       "      <td>104.150000</td>\n",
       "      <td>4.860000</td>\n",
       "      <td>3.310000</td>\n",
       "      <td>113.34000</td>\n",
       "    </tr>\n",
       "    <tr>\n",
       "      <th>max</th>\n",
       "      <td>173.010000</td>\n",
       "      <td>104.880000</td>\n",
       "      <td>104.950000</td>\n",
       "      <td>6.900000</td>\n",
       "      <td>3.910000</td>\n",
       "      <td>114.44000</td>\n",
       "    </tr>\n",
       "  </tbody>\n",
       "</table>\n",
       "</div>"
      ],
      "text/plain": [
       "          diagonal  height_left  height_right   margin_low    margin_up  \\\n",
       "count  1500.000000  1500.000000   1500.000000  1500.000000  1500.000000   \n",
       "mean    171.958440   104.029533    103.920307     4.375313     3.151473   \n",
       "std       0.305195     0.299462      0.325627     0.956158     0.231813   \n",
       "min     171.040000   103.140000    102.820000     0.000000     2.270000   \n",
       "25%     171.750000   103.820000    103.710000     3.990000     2.990000   \n",
       "50%     171.960000   104.040000    103.920000     4.300000     3.140000   \n",
       "75%     172.170000   104.230000    104.150000     4.860000     3.310000   \n",
       "max     173.010000   104.880000    104.950000     6.900000     3.910000   \n",
       "\n",
       "           length  \n",
       "count  1500.00000  \n",
       "mean    112.67850  \n",
       "std       0.87273  \n",
       "min     109.49000  \n",
       "25%     112.03000  \n",
       "50%     112.96000  \n",
       "75%     113.34000  \n",
       "max     114.44000  "
      ]
     },
     "execution_count": 19,
     "metadata": {},
     "output_type": "execute_result"
    }
   ],
   "source": [
    "billets_fil.describe()"
   ]
  },
  {
   "cell_type": "code",
   "execution_count": 20,
   "id": "02e61997",
   "metadata": {},
   "outputs": [
    {
     "data": {
      "text/plain": [
       "<AxesSubplot:xlabel='is_genuine', ylabel='count'>"
      ]
     },
     "execution_count": 20,
     "metadata": {},
     "output_type": "execute_result"
    },
    {
     "data": {
      "image/png": "[encoded data removed]",
      "text/plain": [
       "<Figure size 432x288 with 1 Axes>"
      ]
     },
     "metadata": {
      "needs_background": "light"
     },
     "output_type": "display_data"
    }
   ],
   "source": [
    "sns.countplot(x ='is_genuine', data = billets_fil)\n"
   ]
  },
  {
   "cell_type": "markdown",
   "id": "d3131d2a",
   "metadata": {},
   "source": [
    "- befour bulding the module, we transform the values of out default variable from text(True/False ) into numbers (0/1) beacuse stamodel only works on numerical values"
   ]
  },
  {
   "cell_type": "code",
   "execution_count": 21,
   "id": "b80f9202",
   "metadata": {},
   "outputs": [
    {
     "data": {
      "text/html": [
       "<div>\n",
       "<style scoped>\n",
       "    .dataframe tbody tr th:only-of-type {\n",
       "        vertical-align: middle;\n",
       "    }\n",
       "\n",
       "    .dataframe tbody tr th {\n",
       "        vertical-align: top;\n",
       "    }\n",
       "\n",
       "    .dataframe thead th {\n",
       "        text-align: right;\n",
       "    }\n",
       "</style>\n",
       "<table border=\"1\" class=\"dataframe\">\n",
       "  <thead>\n",
       "    <tr style=\"text-align: right;\">\n",
       "      <th></th>\n",
       "      <th>is_genuine</th>\n",
       "      <th>diagonal</th>\n",
       "      <th>height_left</th>\n",
       "      <th>height_right</th>\n",
       "      <th>margin_low</th>\n",
       "      <th>margin_up</th>\n",
       "      <th>length</th>\n",
       "    </tr>\n",
       "  </thead>\n",
       "  <tbody>\n",
       "    <tr>\n",
       "      <th>is_genuine</th>\n",
       "      <td>1.000000</td>\n",
       "      <td>0.132756</td>\n",
       "      <td>-0.379833</td>\n",
       "      <td>-0.485092</td>\n",
       "      <td>-0.560133</td>\n",
       "      <td>-0.606262</td>\n",
       "      <td>0.849285</td>\n",
       "    </tr>\n",
       "    <tr>\n",
       "      <th>diagonal</th>\n",
       "      <td>0.132756</td>\n",
       "      <td>1.000000</td>\n",
       "      <td>0.019472</td>\n",
       "      <td>-0.024492</td>\n",
       "      <td>-0.064282</td>\n",
       "      <td>-0.055649</td>\n",
       "      <td>0.097587</td>\n",
       "    </tr>\n",
       "    <tr>\n",
       "      <th>height_left</th>\n",
       "      <td>-0.379833</td>\n",
       "      <td>0.019472</td>\n",
       "      <td>1.000000</td>\n",
       "      <td>0.242279</td>\n",
       "      <td>0.232538</td>\n",
       "      <td>0.246522</td>\n",
       "      <td>-0.320863</td>\n",
       "    </tr>\n",
       "    <tr>\n",
       "      <th>height_right</th>\n",
       "      <td>-0.485092</td>\n",
       "      <td>-0.024492</td>\n",
       "      <td>0.242279</td>\n",
       "      <td>1.000000</td>\n",
       "      <td>0.280082</td>\n",
       "      <td>0.307005</td>\n",
       "      <td>-0.401751</td>\n",
       "    </tr>\n",
       "    <tr>\n",
       "      <th>margin_low</th>\n",
       "      <td>-0.560133</td>\n",
       "      <td>-0.064282</td>\n",
       "      <td>0.232538</td>\n",
       "      <td>0.280082</td>\n",
       "      <td>1.000000</td>\n",
       "      <td>0.323598</td>\n",
       "      <td>-0.471358</td>\n",
       "    </tr>\n",
       "    <tr>\n",
       "      <th>margin_up</th>\n",
       "      <td>-0.606262</td>\n",
       "      <td>-0.055649</td>\n",
       "      <td>0.246522</td>\n",
       "      <td>0.307005</td>\n",
       "      <td>0.323598</td>\n",
       "      <td>1.000000</td>\n",
       "      <td>-0.520575</td>\n",
       "    </tr>\n",
       "    <tr>\n",
       "      <th>length</th>\n",
       "      <td>0.849285</td>\n",
       "      <td>0.097587</td>\n",
       "      <td>-0.320863</td>\n",
       "      <td>-0.401751</td>\n",
       "      <td>-0.471358</td>\n",
       "      <td>-0.520575</td>\n",
       "      <td>1.000000</td>\n",
       "    </tr>\n",
       "  </tbody>\n",
       "</table>\n",
       "</div>"
      ],
      "text/plain": [
       "              is_genuine  diagonal  height_left  height_right  margin_low  \\\n",
       "is_genuine      1.000000  0.132756    -0.379833     -0.485092   -0.560133   \n",
       "diagonal        0.132756  1.000000     0.019472     -0.024492   -0.064282   \n",
       "height_left    -0.379833  0.019472     1.000000      0.242279    0.232538   \n",
       "height_right   -0.485092 -0.024492     0.242279      1.000000    0.280082   \n",
       "margin_low     -0.560133 -0.064282     0.232538      0.280082    1.000000   \n",
       "margin_up      -0.606262 -0.055649     0.246522      0.307005    0.323598   \n",
       "length          0.849285  0.097587    -0.320863     -0.401751   -0.471358   \n",
       "\n",
       "              margin_up    length  \n",
       "is_genuine    -0.606262  0.849285  \n",
       "diagonal      -0.055649  0.097587  \n",
       "height_left    0.246522 -0.320863  \n",
       "height_right   0.307005 -0.401751  \n",
       "margin_low     0.323598 -0.471358  \n",
       "margin_up      1.000000 -0.520575  \n",
       "length        -0.520575  1.000000  "
      ]
     },
     "execution_count": 21,
     "metadata": {},
     "output_type": "execute_result"
    }
   ],
   "source": [
    "billets_fil.corr()"
   ]
  },
  {
   "cell_type": "markdown",
   "id": "cef1e04d",
   "metadata": {},
   "source": [
    "# matrice of corr"
   ]
  },
  {
   "cell_type": "code",
   "execution_count": 22,
   "id": "1554b8df",
   "metadata": {},
   "outputs": [
    {
     "data": {
      "image/png": "[encoded data removed]",
      "text/plain": [
       "<Figure size 1152x432 with 2 Axes>"
      ]
     },
     "metadata": {
      "needs_background": "light"
     },
     "output_type": "display_data"
    }
   ],
   "source": [
    "matrice_corr = billets_fil.corr().round(2)\n",
    "plt.figure(figsize=(16, 6))\n",
    "\n",
    "sns.heatmap(data=matrice_corr, annot=True,cmap =\"YlGnBu\", linecolor='black',linewidths=1,vmin=-1, vmax=1)\n",
    "plt.yticks(rotation=0,fontsize = 14) \n",
    "plt.xticks(rotation=0,fontsize = 14,va=\"top\") \n",
    "plt.show()"
   ]
  },
  {
   "cell_type": "markdown",
   "id": "6b6a54fe",
   "metadata": {},
   "source": [
    "- notes: \n",
    "    \n",
    "    we can find a corrlation between \"margin_low\", and 'margin_up'\n",
    "    while they are not corrlated to the variible \"is_genuine\"\n",
    "    \n",
    "    \n",
    "- so for that i did multi-regression analysis to find the missng values\n"
   ]
  },
  {
   "cell_type": "markdown",
   "id": "a86681ea",
   "metadata": {},
   "source": [
    "# Multi-linear Regression"
   ]
  },
  {
   "cell_type": "code",
   "execution_count": 23,
   "id": "0262026d",
   "metadata": {},
   "outputs": [
    {
     "name": "stdout",
     "output_type": "stream",
     "text": [
      "                            OLS Regression Results                            \n",
      "==============================================================================\n",
      "Dep. Variable:             margin_low   R-squared:                       0.315\n",
      "Model:                            OLS   Adj. R-squared:                  0.312\n",
      "Method:                 Least Squares   F-statistic:                     114.3\n",
      "Date:                Tue, 24 May 2022   Prob (F-statistic):          7.29e-119\n",
      "Time:                        17:30:43   Log-Likelihood:                -1777.1\n",
      "No. Observations:                1500   AIC:                             3568.\n",
      "Df Residuals:                    1493   BIC:                             3605.\n",
      "Df Model:                           6                                         \n",
      "Covariance Type:            nonrobust                                         \n",
      "======================================================================================\n",
      "                         coef    std err          t      P>|t|      [0.025      0.975]\n",
      "--------------------------------------------------------------------------------------\n",
      "Intercept            -11.4630     15.836     -0.724      0.469     -42.526      19.600\n",
      "is_genuine[T.True]    -1.1706      0.094    -12.478      0.000      -1.355      -0.987\n",
      "diagonal               0.0289      0.068      0.424      0.672      -0.105       0.162\n",
      "height_left            0.0709      0.074      0.954      0.340      -0.075       0.217\n",
      "height_right           0.0265      0.072      0.367      0.714      -0.115       0.168\n",
      "margin_up             -0.1083      0.111     -0.974      0.330      -0.326       0.110\n",
      "length                 0.0166      0.044      0.372      0.710      -0.071       0.104\n",
      "==============================================================================\n",
      "Omnibus:                     1238.454   Durbin-Watson:                   1.979\n",
      "Prob(Omnibus):                  0.000   Jarque-Bera (JB):            27141.897\n",
      "Skew:                          -3.841   Prob(JB):                         0.00\n",
      "Kurtosis:                      22.372   Cond. No.                     1.96e+05\n",
      "==============================================================================\n",
      "\n",
      "Notes:\n",
      "[1] Standard Errors assume that the covariance matrix of the errors is correctly specified.\n",
      "[2] The condition number is large, 1.96e+05. This might indicate that there are\n",
      "strong multicollinearity or other numerical problems.\n"
     ]
    }
   ],
   "source": [
    "reg_multi = smf.ols('margin_low~is_genuine+diagonal+height_left+height_right+margin_up+length',\n",
    "                    data=billets_fil).fit()\n",
    "print(reg_multi.summary())"
   ]
  },
  {
   "cell_type": "markdown",
   "id": "990c0705",
   "metadata": {},
   "source": []
  },
  {
   "cell_type": "markdown",
   "id": "687690c9",
   "metadata": {},
   "source": [
    "- Notes: \n",
    "   - each varibales that his P-value is biger or greater than the sicnifcant mark 0.05 i will remove it \n",
    "\n",
    "- so for that using the orginal data to predict the missing values"
   ]
  },
  {
   "cell_type": "code",
   "execution_count": 24,
   "id": "4192b398",
   "metadata": {},
   "outputs": [
    {
     "name": "stdout",
     "output_type": "stream",
     "text": [
      "                            OLS Regression Results                            \n",
      "==============================================================================\n",
      "Dep. Variable:             margin_low   R-squared:                       0.314\n",
      "Model:                            OLS   Adj. R-squared:                  0.313\n",
      "Method:                 Least Squares   F-statistic:                     342.9\n",
      "Date:                Tue, 24 May 2022   Prob (F-statistic):          2.60e-123\n",
      "Time:                        17:30:43   Log-Likelihood:                -1777.8\n",
      "No. Observations:                1500   AIC:                             3562.\n",
      "Df Residuals:                    1497   BIC:                             3578.\n",
      "Df Model:                           2                                         \n",
      "Covariance Type:            nonrobust                                         \n",
      "======================================================================================\n",
      "                         coef    std err          t      P>|t|      [0.025      0.975]\n",
      "--------------------------------------------------------------------------------------\n",
      "Intercept              5.4818      0.374     14.673      0.000       4.749       6.215\n",
      "is_genuine[T.True]    -1.1668      0.055    -21.381      0.000      -1.274      -1.060\n",
      "margin_up             -0.1043      0.111     -0.939      0.348      -0.322       0.113\n",
      "==============================================================================\n",
      "Omnibus:                     1239.077   Durbin-Watson:                   1.982\n",
      "Prob(Omnibus):                  0.000   Jarque-Bera (JB):            27149.617\n",
      "Skew:                          -3.844   Prob(JB):                         0.00\n",
      "Kurtosis:                      22.372   Cond. No.                         64.6\n",
      "==============================================================================\n",
      "\n",
      "Notes:\n",
      "[1] Standard Errors assume that the covariance matrix of the errors is correctly specified.\n"
     ]
    }
   ],
   "source": [
    "reg_multi = smf.ols('margin_low~is_genuine+margin_up', data=billets_fil).fit()\n",
    "print(reg_multi.summary())"
   ]
  },
  {
   "cell_type": "markdown",
   "id": "050630be",
   "metadata": {},
   "source": [
    "- we could see that The p-value of the variables are less than 5%."
   ]
  },
  {
   "cell_type": "code",
   "execution_count": 25,
   "id": "0b53612d",
   "metadata": {},
   "outputs": [
    {
     "data": {
      "text/plain": [
       "72     3.976096\n",
       "99     3.987567\n",
       "151    4.000081\n",
       "197    3.937513\n",
       "241    4.000081\n",
       "dtype: float64"
      ]
     },
     "execution_count": 25,
     "metadata": {},
     "output_type": "execute_result"
    }
   ],
   "source": [
    "null_data = null_df\n",
    "\n",
    "# J'enregistre mes predictions\n",
    "pred_reg = reg_multi.predict(null_data)\n",
    "pred_reg.head()"
   ]
  },
  {
   "cell_type": "markdown",
   "id": "c845ef40",
   "metadata": {},
   "source": [
    "# results of Mulit_liner_reg"
   ]
  },
  {
   "cell_type": "code",
   "execution_count": 26,
   "id": "e8c5d3c1",
   "metadata": {},
   "outputs": [],
   "source": [
    "alpha = 0.05\n",
    "\n",
    "\n"
   ]
  },
  {
   "cell_type": "code",
   "execution_count": 27,
   "id": "655a26da",
   "metadata": {},
   "outputs": [],
   "source": [
    "n = billets_fil.shape[0]\n",
    "p = 3"
   ]
  },
  {
   "cell_type": "code",
   "execution_count": 28,
   "id": "0f58b4e7",
   "metadata": {},
   "outputs": [
    {
     "data": {
      "text/plain": [
       "0          1.0\n",
       "1          2.0\n",
       "2          3.0\n",
       "3          4.0\n",
       "4          5.0\n",
       "         ...  \n",
       "1495    1496.0\n",
       "1496    1497.0\n",
       "1497    1498.0\n",
       "1498    1499.0\n",
       "1499    1500.0\n",
       "Name: obs, Length: 1500, dtype: float64"
      ]
     },
     "execution_count": 28,
     "metadata": {},
     "output_type": "execute_result"
    }
   ],
   "source": [
    "analyses = pd.DataFrame({'obs':np.arange(1, n+1)})\n",
    "analyses['obs'].astype('float')"
   ]
  },
  {
   "cell_type": "markdown",
   "id": "81c7eae9",
   "metadata": {},
   "source": [
    "- We calculate the levers knowing that the threshold of the levers is \"2∗𝑝𝑛\""
   ]
  },
  {
   "cell_type": "code",
   "execution_count": 29,
   "id": "05d7b02e",
   "metadata": {},
   "outputs": [],
   "source": [
    "analyses['levier'] = reg_multi.get_influence().hat_matrix_diag\n",
    "\n",
    "threshold_lever = 2*p/n"
   ]
  },
  {
   "cell_type": "markdown",
   "id": "27590391",
   "metadata": {},
   "source": [
    "- The calculation of the levers will allow me to detect atypical or influential values."
   ]
  },
  {
   "cell_type": "code",
   "execution_count": 30,
   "id": "80468905",
   "metadata": {},
   "outputs": [
    {
     "data": {
      "image/png": "[encoded data removed]",
      "text/plain": [
       "<Figure size 864x432 with 1 Axes>"
      ]
     },
     "metadata": {
      "needs_background": "light"
     },
     "output_type": "display_data"
    }
   ],
   "source": [
    "plt.figure(figsize=(12,6))\n",
    "plt.bar(analyses['obs'], analyses['levier'])\n",
    "plt.xticks(np.arange(0, 1463, step=100))\n",
    "plt.xlabel('Observation')\n",
    "plt.ylabel('Leviers')\n",
    "plt.plot([0, 1463], [threshold_lever, threshold_lever], color='r')\n",
    "plt.show()"
   ]
  },
  {
   "cell_type": "markdown",
   "id": "b9390e0b",
   "metadata": {},
   "source": [
    "- To select the points for which the leverage is greater than the threshold, we execute the following line:"
   ]
  },
  {
   "cell_type": "code",
   "execution_count": 31,
   "id": "1393a65c",
   "metadata": {},
   "outputs": [
    {
     "data": {
      "text/html": [
       "<div>\n",
       "<style scoped>\n",
       "    .dataframe tbody tr th:only-of-type {\n",
       "        vertical-align: middle;\n",
       "    }\n",
       "\n",
       "    .dataframe tbody tr th {\n",
       "        vertical-align: top;\n",
       "    }\n",
       "\n",
       "    .dataframe thead th {\n",
       "        text-align: right;\n",
       "    }\n",
       "</style>\n",
       "<table border=\"1\" class=\"dataframe\">\n",
       "  <thead>\n",
       "    <tr style=\"text-align: right;\">\n",
       "      <th></th>\n",
       "      <th>obs</th>\n",
       "      <th>levier</th>\n",
       "    </tr>\n",
       "  </thead>\n",
       "  <tbody>\n",
       "    <tr>\n",
       "      <th>4</th>\n",
       "      <td>5</td>\n",
       "      <td>0.004594</td>\n",
       "    </tr>\n",
       "    <tr>\n",
       "      <th>48</th>\n",
       "      <td>49</td>\n",
       "      <td>0.007109</td>\n",
       "    </tr>\n",
       "    <tr>\n",
       "      <th>52</th>\n",
       "      <td>53</td>\n",
       "      <td>0.010288</td>\n",
       "    </tr>\n",
       "    <tr>\n",
       "      <th>54</th>\n",
       "      <td>55</td>\n",
       "      <td>0.004265</td>\n",
       "    </tr>\n",
       "    <tr>\n",
       "      <th>125</th>\n",
       "      <td>126</td>\n",
       "      <td>0.005672</td>\n",
       "    </tr>\n",
       "    <tr>\n",
       "      <th>...</th>\n",
       "      <td>...</td>\n",
       "      <td>...</td>\n",
       "    </tr>\n",
       "    <tr>\n",
       "      <th>1478</th>\n",
       "      <td>1479</td>\n",
       "      <td>0.005297</td>\n",
       "    </tr>\n",
       "    <tr>\n",
       "      <th>1479</th>\n",
       "      <td>1480</td>\n",
       "      <td>0.004271</td>\n",
       "    </tr>\n",
       "    <tr>\n",
       "      <th>1481</th>\n",
       "      <td>1482</td>\n",
       "      <td>0.004542</td>\n",
       "    </tr>\n",
       "    <tr>\n",
       "      <th>1483</th>\n",
       "      <td>1484</td>\n",
       "      <td>0.004685</td>\n",
       "    </tr>\n",
       "    <tr>\n",
       "      <th>1490</th>\n",
       "      <td>1491</td>\n",
       "      <td>0.004012</td>\n",
       "    </tr>\n",
       "  </tbody>\n",
       "</table>\n",
       "<p>73 rows × 2 columns</p>\n",
       "</div>"
      ],
      "text/plain": [
       "       obs    levier\n",
       "4        5  0.004594\n",
       "48      49  0.007109\n",
       "52      53  0.010288\n",
       "54      55  0.004265\n",
       "125    126  0.005672\n",
       "...    ...       ...\n",
       "1478  1479  0.005297\n",
       "1479  1480  0.004271\n",
       "1481  1482  0.004542\n",
       "1483  1484  0.004685\n",
       "1490  1491  0.004012\n",
       "\n",
       "[73 rows x 2 columns]"
      ]
     },
     "execution_count": 31,
     "metadata": {},
     "output_type": "execute_result"
    }
   ],
   "source": [
    "analyses.loc[analyses['levier'] > threshold_lever, :]"
   ]
  },
  {
   "cell_type": "markdown",
   "id": "ddc7bbf1",
   "metadata": {},
   "source": [
    "\n",
    "# Studentized Residuals<a class=\"anchor\" id=\"section_3_2\"></a>"
   ]
  },
  {
   "cell_type": "markdown",
   "id": "dc80f0c3",
   "metadata": {},
   "source": [
    "- Principle: Compare the value of y and the prediction of y.\n",
    "\n",
    "- To do this, the residual is normalized by the standard deviation."
   ]
  },
  {
   "cell_type": "code",
   "execution_count": 32,
   "id": "04c8f19a",
   "metadata": {},
   "outputs": [],
   "source": [
    "analyses['rstudent'] = reg_multi.get_influence().resid_studentized_internal\n",
    "threshold_rstudent = t.ppf(1-alpha/2,n-p-1)"
   ]
  },
  {
   "cell_type": "code",
   "execution_count": 33,
   "id": "90df30f3",
   "metadata": {},
   "outputs": [
    {
     "data": {
      "image/png": "[encoded data removed]",
      "text/plain": [
       "<Figure size 1440x432 with 1 Axes>"
      ]
     },
     "metadata": {
      "needs_background": "light"
     },
     "output_type": "display_data"
    }
   ],
   "source": [
    "plt.figure(figsize=(20,6))\n",
    "plt.bar(analyses['obs'], analyses['rstudent'])\n",
    "plt.xticks(np.arange(0, 1463, step=100))\n",
    "plt.xlabel('Observations')\n",
    "plt.ylabel('Résidus studentisés')\n",
    "plt.plot([0, 1463], [threshold_rstudent, threshold_rstudent], color='r')\n",
    "plt.plot([0, 1463], [-threshold_rstudent, -threshold_rstudent], color='r')\n",
    "plt.title(\"Studentized residuals\")\n",
    "plt.show()"
   ]
  },
  {
   "cell_type": "markdown",
   "id": "16133586",
   "metadata": {},
   "source": [
    "# Distance of Cook<a class=\"anchor\" id=\"section_3_3\"></a>\n",
    "\n",
    "Principle: Globally compare the coefficients when point n°i participates or not in the regression. We\n",
    "measures the influence of a point on the estimated coefficients."
   ]
  },
  {
   "cell_type": "code",
   "execution_count": 34,
   "id": "2e1cda35",
   "metadata": {},
   "outputs": [],
   "source": [
    "influence = reg_multi.get_influence().summary_frame()"
   ]
  },
  {
   "cell_type": "code",
   "execution_count": 35,
   "id": "19ef8423",
   "metadata": {},
   "outputs": [],
   "source": [
    "analyses['dcooks'] = influence['cooks_d']\n",
    "seuil_dcook = 4/(n-p)"
   ]
  },
  {
   "cell_type": "code",
   "execution_count": 36,
   "id": "83273529",
   "metadata": {},
   "outputs": [
    {
     "data": {
      "image/png": "[encoded data removed]",
      "text/plain": [
       "<Figure size 1080x432 with 1 Axes>"
      ]
     },
     "metadata": {
      "needs_background": "light"
     },
     "output_type": "display_data"
    }
   ],
   "source": [
    "plt.figure(figsize=(15,6))\n",
    "plt.bar(analyses['obs'], analyses['dcooks'])\n",
    "plt.xticks(np.arange(0, 1463, step=50))\n",
    "plt.xlabel('Observation')\n",
    "plt.ylabel('Leviers')\n",
    "plt.plot([0, 1463], [seuil_dcook, seuil_dcook], color='r')\n",
    "plt.show()"
   ]
  },
  {
   "cell_type": "markdown",
   "id": "96250fde",
   "metadata": {},
   "source": [
    "# Colinéarité des variables<a class=\"anchor\" id=\"section_3_4\"></a>\n",
    "\n",
    "To check if the independent variables are not correlated with each other (because in this case it is difficult to estimate the individual effects on the dependent variable).\n",
    "I use the VIF (Variance Inflation Factor):"
   ]
  },
  {
   "cell_type": "code",
   "execution_count": 37,
   "id": "80163660",
   "metadata": {},
   "outputs": [
    {
     "data": {
      "text/plain": [
       "[1.5811624794799994, 1.5811624794799992]"
      ]
     },
     "execution_count": 37,
     "metadata": {},
     "output_type": "execute_result"
    }
   ],
   "source": [
    "variables = reg_multi.model.exog\n",
    "[variance_inflation_factor(variables, i) for i in np.arange(1,variables.shape[1])]"
   ]
  },
  {
   "cell_type": "markdown",
   "id": "e53a640e",
   "metadata": {},
   "source": [
    "- The coefficients are less than 10, there are no collinearity problems of my variables."
   ]
  },
  {
   "cell_type": "markdown",
   "id": "a31ff9ac",
   "metadata": {},
   "source": [
    "# Homoscedasticity test <a class=\"anchor\" id=\"section_3_5\"></a>"
   ]
  },
  {
   "cell_type": "markdown",
   "id": "0c24362e",
   "metadata": {},
   "source": [
    "- To check the constancy of variance of the residuals. We use the Breusch Pagan test with the null hypothesis of homoscedasticity"
   ]
  },
  {
   "cell_type": "code",
   "execution_count": 38,
   "id": "82fe3ca6",
   "metadata": {},
   "outputs": [
    {
     "name": "stdout",
     "output_type": "stream",
     "text": [
      "p value test Breusch Pagan: 0.264180238256536\n"
     ]
    }
   ],
   "source": [
    "_, pval, __, f_pval = statsmodels.stats.diagnostic.het_breuschpagan(reg_multi.resid, variables)\n",
    "print('p value test Breusch Pagan:', pval)"
   ]
  },
  {
   "cell_type": "code",
   "execution_count": 39,
   "id": "6f3bae05",
   "metadata": {},
   "outputs": [
    {
     "data": {
      "text/plain": [
       "0.26457203117980854"
      ]
     },
     "execution_count": 39,
     "metadata": {},
     "output_type": "execute_result"
    }
   ],
   "source": [
    "f_pval"
   ]
  },
  {
   "cell_type": "markdown",
   "id": "26970e67",
   "metadata": {},
   "source": [
    "- With a p-value less than 5%, we can reject the hypothesis that the variances are constant"
   ]
  },
  {
   "cell_type": "markdown",
   "id": "ff9386df",
   "metadata": {},
   "source": [
    "# Test for normality of residuals<a class=\"anchor\" id=\"section_3_6\"></a>"
   ]
  },
  {
   "cell_type": "code",
   "execution_count": 40,
   "id": "d9483e8e",
   "metadata": {},
   "outputs": [
    {
     "data": {
      "text/plain": [
       "ShapiroResult(statistic=0.6298308372497559, pvalue=0.0)"
      ]
     },
     "execution_count": 40,
     "metadata": {},
     "output_type": "execute_result"
    }
   ],
   "source": [
    "shapiro(reg_multi.resid)"
   ]
  },
  {
   "cell_type": "code",
   "execution_count": 41,
   "id": "bb805167",
   "metadata": {},
   "outputs": [],
   "source": [
    "analyses['residu_s'] = reg_multi.resid"
   ]
  },
  {
   "cell_type": "code",
   "execution_count": 42,
   "id": "fca501a1",
   "metadata": {},
   "outputs": [
    {
     "data": {
      "image/png": "[encoded data removed]",
      "text/plain": [
       "<Figure size 432x432 with 1 Axes>"
      ]
     },
     "metadata": {
      "needs_background": "light"
     },
     "output_type": "display_data"
    }
   ],
   "source": [
    "plt.figure(figsize=(6,6))\n",
    "plt.hist(analyses['residu_s'], density=True)\n",
    "plt.xlabel('Residues')\n",
    "plt.title('Histogram of residuals')\n",
    "plt.show()"
   ]
  },
  {
   "cell_type": "markdown",
   "id": "6ed15175",
   "metadata": {},
   "source": [
    "- Creation of a QQ-plot"
   ]
  },
  {
   "cell_type": "code",
   "execution_count": 43,
   "id": "c0cbc9e6",
   "metadata": {},
   "outputs": [
    {
     "data": {
      "text/plain": [
       "<Figure size 576x576 with 0 Axes>"
      ]
     },
     "metadata": {},
     "output_type": "display_data"
    },
    {
     "data": {
      "image/png": "[encoded data removed]",
      "text/plain": [
       "<Figure size 432x288 with 1 Axes>"
      ]
     },
     "metadata": {
      "needs_background": "light"
     },
     "output_type": "display_data"
    }
   ],
   "source": [
    "\n",
    "plt.figure(figsize=(8,8))\n",
    "fig = sm.qqplot(reg_multi.resid, line='q')\n",
    "plt.title('QQ plot')\n",
    "plt.show()"
   ]
  },
  {
   "cell_type": "markdown",
   "id": "bc715217",
   "metadata": {},
   "source": [
    "The Q-Q plot is a graphical tool to assess the relevance of the adjustment of a given distribution to a theoretical model."
   ]
  },
  {
   "cell_type": "code",
   "execution_count": 44,
   "id": "d11a0956",
   "metadata": {},
   "outputs": [
    {
     "data": {
      "image/png": "[encoded data removed]",
      "text/plain": [
       "<Figure size 576x288 with 1 Axes>"
      ]
     },
     "metadata": {
      "needs_background": "light"
     },
     "output_type": "display_data"
    }
   ],
   "source": [
    "# Plotting the residuals\n",
    "plt.subplots(figsize=(8, 4))\n",
    "plt.scatter(x=billets_fil.index, y=analyses['rstudent'], alpha=0.8)\n",
    "plt.plot(np.repeat(0, len(billets_fil.index)+2), color='yellow', linestyle='--')\n",
    "\n",
    "plt.ylabel('Résidus', fontsize=14)\n",
    "plt.xlabel('Billet', fontsize=14)\n",
    "plt.title('homoscedasticity', fontsize=16)\n",
    "plt.show()  "
   ]
  },
  {
   "cell_type": "markdown",
   "id": "e0b599ec",
   "metadata": {},
   "source": [
    "- we could see that the  homoscedasticity, the linear model is robust and my file contains more than 30 individuals."
   ]
  },
  {
   "cell_type": "markdown",
   "id": "f6365ebe",
   "metadata": {},
   "source": [
    "# Imputation of missing values<a class=\"anchor\" id=\"chapter4\"></a>"
   ]
  },
  {
   "cell_type": "code",
   "execution_count": 45,
   "id": "84caa29d",
   "metadata": {},
   "outputs": [
    {
     "name": "stderr",
     "output_type": "stream",
     "text": [
      "/var/folders/60/5b9_rz6d6qn1yvxznrxvrtxm0000gn/T/ipykernel_18627/1454101828.py:1: SettingWithCopyWarning: \n",
      "A value is trying to be set on a copy of a slice from a DataFrame.\n",
      "Try using .loc[row_indexer,col_indexer] = value instead\n",
      "\n",
      "See the caveats in the documentation: https://pandas.pydata.org/pandas-docs/stable/user_guide/indexing.html#returning-a-view-versus-a-copy\n",
      "  null_df['margin_low'] = pred_reg.round(2)\n"
     ]
    }
   ],
   "source": [
    "null_df['margin_low'] = pred_reg.round(2)"
   ]
  },
  {
   "cell_type": "code",
   "execution_count": 46,
   "id": "2dab1a76",
   "metadata": {},
   "outputs": [],
   "source": [
    "df = pd.concat([billets_fil, null_df], axis=0)"
   ]
  },
  {
   "cell_type": "code",
   "execution_count": 47,
   "id": "aae31863",
   "metadata": {},
   "outputs": [
    {
     "data": {
      "text/html": [
       "<div>\n",
       "<style scoped>\n",
       "    .dataframe tbody tr th:only-of-type {\n",
       "        vertical-align: middle;\n",
       "    }\n",
       "\n",
       "    .dataframe tbody tr th {\n",
       "        vertical-align: top;\n",
       "    }\n",
       "\n",
       "    .dataframe thead th {\n",
       "        text-align: right;\n",
       "    }\n",
       "</style>\n",
       "<table border=\"1\" class=\"dataframe\">\n",
       "  <thead>\n",
       "    <tr style=\"text-align: right;\">\n",
       "      <th></th>\n",
       "      <th>diagonal</th>\n",
       "      <th>height_left</th>\n",
       "      <th>height_right</th>\n",
       "      <th>margin_low</th>\n",
       "      <th>margin_up</th>\n",
       "      <th>length</th>\n",
       "    </tr>\n",
       "  </thead>\n",
       "  <tbody>\n",
       "    <tr>\n",
       "      <th>count</th>\n",
       "      <td>1537.000000</td>\n",
       "      <td>1537.000000</td>\n",
       "      <td>1537.000000</td>\n",
       "      <td>1537.000000</td>\n",
       "      <td>1537.000000</td>\n",
       "      <td>1537.000000</td>\n",
       "    </tr>\n",
       "    <tr>\n",
       "      <th>mean</th>\n",
       "      <td>171.957723</td>\n",
       "      <td>104.027820</td>\n",
       "      <td>103.919193</td>\n",
       "      <td>4.372180</td>\n",
       "      <td>3.149941</td>\n",
       "      <td>112.682062</td>\n",
       "    </tr>\n",
       "    <tr>\n",
       "      <th>std</th>\n",
       "      <td>0.304944</td>\n",
       "      <td>0.299315</td>\n",
       "      <td>0.326993</td>\n",
       "      <td>0.947617</td>\n",
       "      <td>0.232133</td>\n",
       "      <td>0.872246</td>\n",
       "    </tr>\n",
       "    <tr>\n",
       "      <th>min</th>\n",
       "      <td>171.040000</td>\n",
       "      <td>103.140000</td>\n",
       "      <td>102.820000</td>\n",
       "      <td>0.000000</td>\n",
       "      <td>2.270000</td>\n",
       "      <td>109.490000</td>\n",
       "    </tr>\n",
       "    <tr>\n",
       "      <th>25%</th>\n",
       "      <td>171.750000</td>\n",
       "      <td>103.820000</td>\n",
       "      <td>103.710000</td>\n",
       "      <td>3.990000</td>\n",
       "      <td>2.990000</td>\n",
       "      <td>112.050000</td>\n",
       "    </tr>\n",
       "    <tr>\n",
       "      <th>50%</th>\n",
       "      <td>171.950000</td>\n",
       "      <td>104.040000</td>\n",
       "      <td>103.920000</td>\n",
       "      <td>4.290000</td>\n",
       "      <td>3.140000</td>\n",
       "      <td>112.960000</td>\n",
       "    </tr>\n",
       "    <tr>\n",
       "      <th>75%</th>\n",
       "      <td>172.160000</td>\n",
       "      <td>104.230000</td>\n",
       "      <td>104.150000</td>\n",
       "      <td>4.850000</td>\n",
       "      <td>3.310000</td>\n",
       "      <td>113.340000</td>\n",
       "    </tr>\n",
       "    <tr>\n",
       "      <th>max</th>\n",
       "      <td>173.010000</td>\n",
       "      <td>104.880000</td>\n",
       "      <td>104.950000</td>\n",
       "      <td>6.900000</td>\n",
       "      <td>3.910000</td>\n",
       "      <td>114.440000</td>\n",
       "    </tr>\n",
       "  </tbody>\n",
       "</table>\n",
       "</div>"
      ],
      "text/plain": [
       "          diagonal  height_left  height_right   margin_low    margin_up  \\\n",
       "count  1537.000000  1537.000000   1537.000000  1537.000000  1537.000000   \n",
       "mean    171.957723   104.027820    103.919193     4.372180     3.149941   \n",
       "std       0.304944     0.299315      0.326993     0.947617     0.232133   \n",
       "min     171.040000   103.140000    102.820000     0.000000     2.270000   \n",
       "25%     171.750000   103.820000    103.710000     3.990000     2.990000   \n",
       "50%     171.950000   104.040000    103.920000     4.290000     3.140000   \n",
       "75%     172.160000   104.230000    104.150000     4.850000     3.310000   \n",
       "max     173.010000   104.880000    104.950000     6.900000     3.910000   \n",
       "\n",
       "            length  \n",
       "count  1537.000000  \n",
       "mean    112.682062  \n",
       "std       0.872246  \n",
       "min     109.490000  \n",
       "25%     112.050000  \n",
       "50%     112.960000  \n",
       "75%     113.340000  \n",
       "max     114.440000  "
      ]
     },
     "execution_count": 47,
     "metadata": {},
     "output_type": "execute_result"
    }
   ],
   "source": [
    "df.describe()"
   ]
  },
  {
   "cell_type": "code",
   "execution_count": 48,
   "id": "8b25bdcd",
   "metadata": {},
   "outputs": [
    {
     "data": {
      "image/png": "[encoded data removed]",
      "text/plain": [
       "<Figure size 1296x864 with 6 Axes>"
      ]
     },
     "metadata": {
      "needs_background": "light"
     },
     "output_type": "display_data"
    }
   ],
   "source": [
    "\n",
    "fig, axes = plt.subplots(3, 2, figsize=(18, 12))\n",
    "\n",
    "fig.suptitle('Clusters et variables')\n",
    "\n",
    "sns.boxplot(ax=axes[0, 0], data= df, x='is_genuine', y='diagonal')\n",
    "sns.boxplot(ax=axes[0, 1], data= df, x='is_genuine', y='height_left')\n",
    "sns.boxplot(ax=axes[1, 0], data= df, x='is_genuine', y='height_right')\n",
    "sns.boxplot(ax=axes[1, 1], data= df, x='is_genuine', y='margin_low')\n",
    "sns.boxplot(ax=axes[2, 0], data= df, x='is_genuine', y='margin_up')\n",
    "sns.boxplot(ax=axes[2, 1], data= df, x='is_genuine', y='length')\n",
    "\n",
    "plt.show()"
   ]
  },
  {
   "cell_type": "markdown",
   "id": "0d7507d8",
   "metadata": {},
   "source": [
    "# PCA"
   ]
  },
  {
   "cell_type": "code",
   "execution_count": 49,
   "id": "a6314433",
   "metadata": {},
   "outputs": [],
   "source": [
    "X= df[['diagonal', 'height_left', 'height_right', 'margin_low', 'margin_up',\n",
    "       'length']].round(2)\n",
    "names = df['is_genuine']\n",
    "nom_variable = ['diagonal','height_left','height_right','margin_low','margin_up','length']"
   ]
  },
  {
   "cell_type": "code",
   "execution_count": 50,
   "id": "b065e9a3",
   "metadata": {},
   "outputs": [],
   "source": [
    "from sklearn import preprocessing\n",
    "std_scale = preprocessing.StandardScaler().fit(X)\n",
    "X_scaled = std_scale.transform(X)"
   ]
  },
  {
   "cell_type": "code",
   "execution_count": 51,
   "id": "4268b900",
   "metadata": {},
   "outputs": [
    {
     "data": {
      "text/plain": [
       "PCA(n_components=6)"
      ]
     },
     "execution_count": 51,
     "metadata": {},
     "output_type": "execute_result"
    }
   ],
   "source": [
    "pca = decomposition.PCA(n_components=6) #correspond aux 6 variables \n",
    "pca.fit(X_scaled)"
   ]
  },
  {
   "cell_type": "code",
   "execution_count": 52,
   "id": "1376bbb9",
   "metadata": {},
   "outputs": [
    {
     "name": "stdout",
     "output_type": "stream",
     "text": [
      "[2.38440527 1.01456194 0.7795342  0.7236919  0.67582221 0.42589073]\n",
      "[0.39714232 0.56612596 0.6959638  0.81650064 0.92906439 1.        ]\n"
     ]
    }
   ],
   "source": [
    "print(pca.explained_variance_)\n",
    "print(pca.explained_variance_ratio_.cumsum())"
   ]
  },
  {
   "cell_type": "code",
   "execution_count": 53,
   "id": "ec16e899",
   "metadata": {},
   "outputs": [],
   "source": [
    "def display_scree_plot(pca):\n",
    "    scree = pca.explained_variance_ratio_*100\n",
    "    plt.bar(np.arange(len(scree))+1, scree)\n",
    "    plt.plot(np.arange(len(scree))+1, scree.cumsum(),c=\"red\",marker='o')\n",
    "    plt.xlabel(\"rank of the axis of inertia\")\n",
    "    plt.ylabel(\"inertia percentage\")\n",
    "    plt.title(\"Eigenvalue scree\")\n",
    "    plt.show(block=False)"
   ]
  },
  {
   "cell_type": "code",
   "execution_count": 54,
   "id": "d179f57a",
   "metadata": {},
   "outputs": [
    {
     "data": {
      "image/png": "[encoded data removed]",
      "text/plain": [
       "<Figure size 432x288 with 1 Axes>"
      ]
     },
     "metadata": {
      "needs_background": "light"
     },
     "output_type": "display_data"
    }
   ],
   "source": [
    "display_scree_plot(pca)"
   ]
  },
  {
   "cell_type": "code",
   "execution_count": 55,
   "id": "c5852b89",
   "metadata": {},
   "outputs": [
    {
     "data": {
      "text/plain": [
       "PCA(n_components=2)"
      ]
     },
     "execution_count": 55,
     "metadata": {},
     "output_type": "execute_result"
    }
   ],
   "source": [
    "# Calcul des composantes principales\n",
    "n_comp = 2\n",
    "pca = decomposition.PCA(n_components=n_comp)\n",
    "pca.fit(X_scaled)"
   ]
  },
  {
   "cell_type": "code",
   "execution_count": 56,
   "id": "b7f51651",
   "metadata": {},
   "outputs": [],
   "source": [
    "# Fonction qui me permet d'afficher les cercles de corrélations\n",
    "def display_circles(pcs, n_comp, pca, axis_ranks, labels=None, label_rotation=0, lims=None):\n",
    "    for d1, d2 in axis_ranks: # On affiche les 3 premiers plans factoriels, donc les 6 premières composantes\n",
    "        if d2 < n_comp:\n",
    "\n",
    "            # initialisation de la figure\n",
    "            fig, ax = plt.subplots(figsize=(8,8))\n",
    "\n",
    "            # détermination des limites du graphique\n",
    "            if lims is not None :\n",
    "                xmin, xmax, ymin, ymax = lims\n",
    "            elif pcs.shape[1] < 30 :\n",
    "                xmin, xmax, ymin, ymax = -1, 1, -1, 1\n",
    "            else :\n",
    "                xmin, xmax, ymin, ymax = min(pcs[d1,:]), max(pcs[d1,:]), min(pcs[d2,:]), max(pcs[d2,:])\n",
    "\n",
    "            # affichage des flèches\n",
    "            # s'il y a plus de 30 flèches, on n'affiche pas le triangle à leur extrémité\n",
    "            if pcs.shape[1] < 30 :\n",
    "                plt.quiver(np.zeros(pcs.shape[1]), np.zeros(pcs.shape[1]),\n",
    "                   pcs[d1,:], pcs[d2,:], \n",
    "                   angles='xy', scale_units='xy', scale=1, color=\"orange\")\n",
    "                # (voir la doc : https://matplotlib.org/api/_as_gen/matplotlib.pyplot.quiver.html)\n",
    "            else:\n",
    "                lines = [[[0,0],[x,y]] for x,y in pcs[[d1,d2]].T]\n",
    "                ax.add_collection(LineCollection(lines, axes=ax, alpha=.1, color='black'))\n",
    "            \n",
    "            # affichage des noms des variables  \n",
    "            if labels is not None:  \n",
    "                for i,(x, y) in enumerate(pcs[[d1,d2]].T):\n",
    "                    if x >= xmin and x <= xmax and y >= ymin and y <= ymax :\n",
    "                        plt.text(x, y, labels[i], fontsize='14', ha='center', va='center', rotation=label_rotation, color=\"blue\", alpha=0.5)\n",
    "            \n",
    "            # affichage du cercle\n",
    "            circle = plt.Circle((0,0), 1, facecolor='none', edgecolor='b')\n",
    "            plt.gca().add_artist(circle)\n",
    "\n",
    "            # définition des limites du graphique\n",
    "            plt.xlim(xmin, xmax)\n",
    "            plt.ylim(ymin, ymax)\n",
    "        \n",
    "            # affichage des lignes horizontales et verticales\n",
    "            plt.plot([-1, 1], [0, 0], color='grey', ls='--')\n",
    "            plt.plot([0, 0], [-1, 1], color='grey', ls='--')\n",
    "\n",
    "            # nom des axes, avec le pourcentage d'inertie expliqué\n",
    "            plt.xlabel('F{} ({}%)'.format(d1+1, round(100*pca.explained_variance_ratio_[d1],1)))\n",
    "            plt.ylabel('F{} ({}%)'.format(d2+1, round(100*pca.explained_variance_ratio_[d2],1)))\n",
    "\n",
    "            plt.title(\"Cercle des corrélations (F{} et F{})\".format(d1+1, d2+1))\n",
    "            plt.show(block=False)"
   ]
  },
  {
   "cell_type": "code",
   "execution_count": 57,
   "id": "fc807242",
   "metadata": {
    "scrolled": false
   },
   "outputs": [
    {
     "data": {
      "image/png": "[encoded data removed]",
      "text/plain": [
       "<Figure size 576x576 with 1 Axes>"
      ]
     },
     "metadata": {
      "needs_background": "light"
     },
     "output_type": "display_data"
    }
   ],
   "source": [
    "pcs = pca.components_\n",
    "display_circles(pcs,n_comp , pca, [(0,1),(0,2)], labels = np.array(nom_variable))"
   ]
  },
  {
   "cell_type": "code",
   "execution_count": 58,
   "id": "503c0790",
   "metadata": {},
   "outputs": [
    {
     "data": {
      "image/png": "[encoded data removed]",
      "text/plain": [
       "<Figure size 504x432 with 1 Axes>"
      ]
     },
     "metadata": {
      "needs_background": "light"
     },
     "output_type": "display_data"
    },
    {
     "data": {
      "text/plain": [
       "<Figure size 432x288 with 0 Axes>"
      ]
     },
     "metadata": {},
     "output_type": "display_data"
    }
   ],
   "source": [
    "X_projected = pca.transform(X_scaled)\n",
    "display_factorial_planes(X_projected, n_comp, pca, [(0,1),(0,2)], illustrative_var=np.array(names))\n",
    "plt.figure()\n",
    "plt.show()"
   ]
  },
  {
   "cell_type": "markdown",
   "id": "6cb33d96",
   "metadata": {},
   "source": []
  },
  {
   "cell_type": "markdown",
   "id": "c214a768",
   "metadata": {},
   "source": []
  },
  {
   "cell_type": "markdown",
   "id": "5fbaef50",
   "metadata": {},
   "source": [
    "# Logistic Regression Model"
   ]
  },
  {
   "cell_type": "markdown",
   "id": "e9d4edf4",
   "metadata": {},
   "source": [
    "- split the dataset into training and test set: "
   ]
  },
  {
   "cell_type": "code",
   "execution_count": null,
   "id": "009d5d05",
   "metadata": {},
   "outputs": [],
   "source": []
  },
  {
   "cell_type": "code",
   "execution_count": 59,
   "id": "b65f0015",
   "metadata": {},
   "outputs": [],
   "source": [
    "# Logistic regression"
   ]
  },
  {
   "cell_type": "code",
   "execution_count": 60,
   "id": "0dbf202c",
   "metadata": {},
   "outputs": [
    {
     "name": "stdout",
     "output_type": "stream",
     "text": [
      "98.44155844155844\n"
     ]
    }
   ],
   "source": [
    "X = df[['diagonal', 'height_left', 'height_right', 'margin_low', 'margin_up','length']].values\n",
    "y = df['is_genuine']\n",
    "y=y.astype('int')\n",
    "\n",
    "\n",
    "#fraction de la df \n",
    "x_train, x_test, y_train, y_test = train_test_split(X, y,train_size=0.75,random_state=0)\n",
    "\n",
    "#instanciation du modèle\n",
    "MylogRegression = linear_model.LogisticRegression(random_state = 0,solver='liblinear')\n",
    "\n",
    "#training\n",
    "MylogRegression.fit(x_train,y_train)\n",
    "\n",
    "#précision du modèle\n",
    "precision = MylogRegression.score(x_test,y_test)\n",
    "print(precision*100)"
   ]
  },
  {
   "cell_type": "code",
   "execution_count": 61,
   "id": "aca93b5d",
   "metadata": {},
   "outputs": [
    {
     "data": {
      "text/plain": [
       "array([[9.85324537e-01, 1.46754626e-02],\n",
       "       [4.90136990e-03, 9.95098630e-01],\n",
       "       [1.17104410e-03, 9.98828956e-01],\n",
       "       [1.71662336e-03, 9.98283377e-01],\n",
       "       [9.33372462e-01, 6.66275380e-02],\n",
       "       [4.67096131e-02, 9.53290387e-01],\n",
       "       [9.99883387e-01, 1.16613191e-04],\n",
       "       [9.99831689e-01, 1.68311409e-04],\n",
       "       [9.87606275e-01, 1.23937252e-02],\n",
       "       [9.99056015e-01, 9.43984837e-04],\n",
       "       [6.30690520e-03, 9.93693095e-01],\n",
       "       [7.61700404e-04, 9.99238300e-01],\n",
       "       [8.93769321e-02, 9.10623068e-01],\n",
       "       [8.75201297e-01, 1.24798703e-01],\n",
       "       [9.91938464e-01, 8.06153581e-03],\n",
       "       [3.58504199e-04, 9.99641496e-01],\n",
       "       [1.98370918e-03, 9.98016291e-01],\n",
       "       [5.62353589e-04, 9.99437646e-01],\n",
       "       [9.97668123e-01, 2.33187661e-03],\n",
       "       [9.07408043e-02, 9.09259196e-01],\n",
       "       [1.69865413e-03, 9.98301346e-01],\n",
       "       [8.84204013e-01, 1.15795987e-01],\n",
       "       [9.12895042e-02, 9.08710496e-01],\n",
       "       [1.92699082e-02, 9.80730092e-01],\n",
       "       [2.89512430e-02, 9.71048757e-01],\n",
       "       [2.72080933e-02, 9.72791907e-01],\n",
       "       [9.82854185e-01, 1.71458153e-02],\n",
       "       [9.04628721e-03, 9.90953713e-01],\n",
       "       [2.55165106e-02, 9.74483489e-01],\n",
       "       [3.17737101e-01, 6.82262899e-01],\n",
       "       [8.44545605e-02, 9.15545440e-01],\n",
       "       [8.53515057e-04, 9.99146485e-01],\n",
       "       [9.99564333e-01, 4.35666961e-04],\n",
       "       [2.26700266e-01, 7.73299734e-01],\n",
       "       [1.69123035e-04, 9.99830877e-01],\n",
       "       [2.42877986e-03, 9.97571220e-01],\n",
       "       [1.06829902e-02, 9.89317010e-01],\n",
       "       [9.96683379e-01, 3.31662050e-03],\n",
       "       [4.50313444e-02, 9.54968656e-01],\n",
       "       [7.18977282e-03, 9.92810227e-01],\n",
       "       [6.40915542e-03, 9.93590845e-01],\n",
       "       [9.92386184e-01, 7.61381589e-03],\n",
       "       [2.75364524e-02, 9.72463548e-01],\n",
       "       [1.20205553e-02, 9.87979445e-01],\n",
       "       [9.72971204e-01, 2.70287962e-02],\n",
       "       [1.21338482e-03, 9.98786615e-01],\n",
       "       [9.52495478e-01, 4.75045223e-02],\n",
       "       [9.98921085e-01, 1.07891514e-03],\n",
       "       [1.17346044e-03, 9.98826540e-01],\n",
       "       [9.98885225e-01, 1.11477480e-03],\n",
       "       [2.48800788e-01, 7.51199212e-01],\n",
       "       [9.98546216e-01, 1.45378428e-03],\n",
       "       [9.94917584e-01, 5.08241602e-03],\n",
       "       [1.88668140e-02, 9.81133186e-01],\n",
       "       [3.77466365e-03, 9.96225336e-01],\n",
       "       [2.02881517e-03, 9.97971185e-01],\n",
       "       [5.21600718e-02, 9.47839928e-01],\n",
       "       [8.37316379e-04, 9.99162684e-01],\n",
       "       [9.97368132e-01, 2.63186825e-03],\n",
       "       [2.23691241e-03, 9.97763088e-01],\n",
       "       [3.93958683e-03, 9.96060413e-01],\n",
       "       [1.29472898e-02, 9.87052710e-01],\n",
       "       [9.99932519e-01, 6.74805730e-05],\n",
       "       [1.50613931e-02, 9.84938607e-01],\n",
       "       [6.48375804e-04, 9.99351624e-01],\n",
       "       [1.97436782e-01, 8.02563218e-01],\n",
       "       [9.75381085e-01, 2.46189154e-02],\n",
       "       [9.99985447e-01, 1.45525514e-05],\n",
       "       [9.99970032e-01, 2.99682647e-05],\n",
       "       [4.46119456e-04, 9.99553881e-01],\n",
       "       [1.38871532e-03, 9.98611285e-01],\n",
       "       [9.94304146e-01, 5.69585351e-03],\n",
       "       [9.99994072e-01, 5.92810669e-06],\n",
       "       [4.31737914e-03, 9.95682621e-01],\n",
       "       [1.89690007e-03, 9.98103100e-01],\n",
       "       [9.99991028e-01, 8.97225311e-06],\n",
       "       [1.93081650e-02, 9.80691835e-01],\n",
       "       [9.99940662e-01, 5.93376081e-05],\n",
       "       [2.22142945e-03, 9.97778571e-01],\n",
       "       [5.28293358e-02, 9.47170664e-01],\n",
       "       [1.25133505e-01, 8.74866495e-01],\n",
       "       [9.88179484e-01, 1.18205155e-02],\n",
       "       [9.99469112e-01, 5.30887978e-04],\n",
       "       [3.93754475e-02, 9.60624552e-01],\n",
       "       [6.36155828e-03, 9.93638442e-01],\n",
       "       [9.54155905e-01, 4.58440953e-02],\n",
       "       [2.43458843e-04, 9.99756541e-01],\n",
       "       [2.58807799e-02, 9.74119220e-01],\n",
       "       [6.26989433e-03, 9.93730106e-01],\n",
       "       [9.90154116e-01, 9.84588421e-03],\n",
       "       [9.75546710e-01, 2.44532897e-02],\n",
       "       [7.36343877e-05, 9.99926366e-01],\n",
       "       [2.29410931e-02, 9.77058907e-01],\n",
       "       [3.12985070e-04, 9.99687015e-01],\n",
       "       [2.10711830e-02, 9.78928817e-01],\n",
       "       [1.85975134e-03, 9.98140249e-01],\n",
       "       [2.37732770e-03, 9.97622672e-01],\n",
       "       [1.07790682e-04, 9.99892209e-01],\n",
       "       [3.88539290e-02, 9.61146071e-01],\n",
       "       [2.55748923e-04, 9.99744251e-01],\n",
       "       [3.39375114e-03, 9.96606249e-01],\n",
       "       [9.99269361e-01, 7.30639497e-04],\n",
       "       [4.02849302e-02, 9.59715070e-01],\n",
       "       [1.19996102e-03, 9.98800039e-01],\n",
       "       [9.99623810e-01, 3.76189984e-04],\n",
       "       [5.63226274e-03, 9.94367737e-01],\n",
       "       [4.08646687e-03, 9.95913533e-01],\n",
       "       [7.81085867e-01, 2.18914133e-01],\n",
       "       [3.37789043e-02, 9.66221096e-01],\n",
       "       [7.55366592e-02, 9.24463341e-01],\n",
       "       [4.39474767e-02, 9.56052523e-01],\n",
       "       [7.48364016e-03, 9.92516360e-01],\n",
       "       [1.36722648e-02, 9.86327735e-01],\n",
       "       [9.93693336e-01, 6.30666414e-03],\n",
       "       [9.53013967e-01, 4.69860329e-02],\n",
       "       [9.99818050e-01, 1.81949596e-04],\n",
       "       [1.71958782e-03, 9.98280412e-01],\n",
       "       [3.36775511e-04, 9.99663224e-01],\n",
       "       [1.58367946e-03, 9.98416321e-01],\n",
       "       [9.98284767e-01, 1.71523270e-03],\n",
       "       [1.83461140e-03, 9.98165389e-01],\n",
       "       [9.99250102e-01, 7.49898121e-04],\n",
       "       [9.99525817e-01, 4.74183228e-04],\n",
       "       [4.54586524e-02, 9.54541348e-01],\n",
       "       [9.99956458e-01, 4.35421109e-05],\n",
       "       [9.94332815e-01, 5.66718525e-03],\n",
       "       [9.95298774e-03, 9.90047012e-01],\n",
       "       [4.43948974e-03, 9.95560510e-01],\n",
       "       [8.39570652e-04, 9.99160429e-01],\n",
       "       [1.41978218e-01, 8.58021782e-01],\n",
       "       [5.72730529e-02, 9.42726947e-01],\n",
       "       [3.50717879e-04, 9.99649282e-01],\n",
       "       [4.03815590e-01, 5.96184410e-01],\n",
       "       [7.68491176e-03, 9.92315088e-01],\n",
       "       [2.93279804e-04, 9.99706720e-01],\n",
       "       [2.94323573e-03, 9.97056764e-01],\n",
       "       [9.99995697e-01, 4.30341604e-06],\n",
       "       [3.31484053e-03, 9.96685159e-01],\n",
       "       [3.30874343e-03, 9.96691257e-01],\n",
       "       [2.93037831e-02, 9.70696217e-01],\n",
       "       [5.20991057e-02, 9.47900894e-01],\n",
       "       [1.31139287e-02, 9.86886071e-01],\n",
       "       [9.41548686e-01, 5.84513137e-02],\n",
       "       [2.01440979e-01, 7.98559021e-01],\n",
       "       [3.75471342e-04, 9.99624529e-01],\n",
       "       [2.28887355e-02, 9.77111265e-01],\n",
       "       [9.97689071e-01, 2.31092886e-03],\n",
       "       [7.63769678e-04, 9.99236230e-01],\n",
       "       [3.00694097e-03, 9.96993059e-01],\n",
       "       [6.70783650e-02, 9.32921635e-01],\n",
       "       [2.28587479e-01, 7.71412521e-01],\n",
       "       [9.82441211e-01, 1.75587894e-02],\n",
       "       [1.22026315e-04, 9.99877974e-01],\n",
       "       [3.02611130e-03, 9.96973889e-01],\n",
       "       [1.54558001e-04, 9.99845442e-01],\n",
       "       [7.78505644e-04, 9.99221494e-01],\n",
       "       [9.97081845e-01, 2.91815469e-03],\n",
       "       [2.74273195e-02, 9.72572681e-01],\n",
       "       [2.50598428e-02, 9.74940157e-01],\n",
       "       [9.94030659e-01, 5.96934115e-03],\n",
       "       [7.17761875e-03, 9.92822381e-01],\n",
       "       [3.78510844e-03, 9.96214892e-01],\n",
       "       [9.99858891e-01, 1.41109485e-04],\n",
       "       [8.50257512e-03, 9.91497425e-01],\n",
       "       [2.17483664e-02, 9.78251634e-01],\n",
       "       [2.73550235e-04, 9.99726450e-01],\n",
       "       [9.46329665e-01, 5.36703346e-02],\n",
       "       [2.61805647e-04, 9.99738194e-01],\n",
       "       [9.99993599e-01, 6.40084955e-06],\n",
       "       [9.99954457e-01, 4.55425897e-05],\n",
       "       [4.62982973e-05, 9.99953702e-01],\n",
       "       [4.74268750e-02, 9.52573125e-01],\n",
       "       [1.56780405e-03, 9.98432196e-01],\n",
       "       [7.38496327e-04, 9.99261504e-01],\n",
       "       [7.24575275e-03, 9.92754247e-01],\n",
       "       [8.33329115e-01, 1.66670885e-01],\n",
       "       [5.28328913e-04, 9.99471671e-01],\n",
       "       [9.99962395e-01, 3.76052655e-05],\n",
       "       [5.29697579e-03, 9.94703024e-01],\n",
       "       [1.19542855e-01, 8.80457145e-01],\n",
       "       [5.33877094e-03, 9.94661229e-01],\n",
       "       [1.61921542e-04, 9.99838078e-01],\n",
       "       [9.94873835e-01, 5.12616475e-03],\n",
       "       [9.75576025e-01, 2.44239752e-02],\n",
       "       [9.56366131e-03, 9.90436339e-01],\n",
       "       [4.96803708e-02, 9.50319629e-01],\n",
       "       [8.02876325e-03, 9.91971237e-01],\n",
       "       [2.71815463e-03, 9.97281845e-01],\n",
       "       [2.38871998e-02, 9.76112800e-01],\n",
       "       [9.92915000e-01, 7.08499956e-03],\n",
       "       [1.36278429e-02, 9.86372157e-01],\n",
       "       [4.32232618e-02, 9.56776738e-01],\n",
       "       [3.90159461e-03, 9.96098405e-01],\n",
       "       [9.98267703e-01, 1.73229697e-03],\n",
       "       [1.53478455e-04, 9.99846522e-01],\n",
       "       [9.74075946e-01, 2.59240542e-02],\n",
       "       [9.74438061e-01, 2.55619388e-02],\n",
       "       [9.83051261e-01, 1.69487393e-02],\n",
       "       [2.77113523e-02, 9.72288648e-01],\n",
       "       [6.89967579e-03, 9.93100324e-01],\n",
       "       [9.99990746e-01, 9.25385213e-06],\n",
       "       [2.70787904e-03, 9.97292121e-01],\n",
       "       [9.99943243e-01, 5.67568539e-05],\n",
       "       [5.21711063e-04, 9.99478289e-01],\n",
       "       [5.34895508e-03, 9.94651045e-01],\n",
       "       [7.52111277e-03, 9.92478887e-01],\n",
       "       [9.67097439e-01, 3.29025606e-02],\n",
       "       [7.15010561e-03, 9.92849894e-01],\n",
       "       [3.57212471e-04, 9.99642788e-01],\n",
       "       [3.58991546e-03, 9.96410085e-01],\n",
       "       [3.36801810e-03, 9.96631982e-01],\n",
       "       [1.12883104e-02, 9.88711690e-01],\n",
       "       [6.81376691e-04, 9.99318623e-01],\n",
       "       [9.98386243e-01, 1.61375676e-03],\n",
       "       [7.29959055e-03, 9.92700409e-01],\n",
       "       [9.99012481e-01, 9.87519220e-04],\n",
       "       [1.73903422e-03, 9.98260966e-01],\n",
       "       [2.25936914e-02, 9.77406309e-01],\n",
       "       [1.65941582e-04, 9.99834058e-01],\n",
       "       [3.66860479e-04, 9.99633140e-01],\n",
       "       [7.31692554e-01, 2.68307446e-01],\n",
       "       [2.03088486e-02, 9.79691151e-01],\n",
       "       [8.04625250e-02, 9.19537475e-01],\n",
       "       [3.37762577e-02, 9.66223742e-01],\n",
       "       [9.38563350e-01, 6.14366500e-02],\n",
       "       [1.35522940e-03, 9.98644771e-01],\n",
       "       [7.60810398e-03, 9.92391896e-01],\n",
       "       [9.02791198e-03, 9.90972088e-01],\n",
       "       [8.99792747e-01, 1.00207253e-01],\n",
       "       [3.11008506e-03, 9.96889915e-01],\n",
       "       [9.90421499e-01, 9.57850070e-03],\n",
       "       [1.65037511e-02, 9.83496249e-01],\n",
       "       [1.96092439e-03, 9.98039076e-01],\n",
       "       [1.98055483e-03, 9.98019445e-01],\n",
       "       [1.41769537e-02, 9.85823046e-01],\n",
       "       [8.20101219e-03, 9.91798988e-01],\n",
       "       [9.96227047e-01, 3.77295259e-03],\n",
       "       [9.81197364e-01, 1.88026363e-02],\n",
       "       [1.69387702e-04, 9.99830612e-01],\n",
       "       [9.96070570e-01, 3.92943029e-03],\n",
       "       [1.24248856e-02, 9.87575114e-01],\n",
       "       [3.75737672e-04, 9.99624262e-01],\n",
       "       [9.95147709e-01, 4.85229099e-03],\n",
       "       [2.63446508e-02, 9.73655349e-01],\n",
       "       [7.40865569e-01, 2.59134431e-01],\n",
       "       [1.24044061e-03, 9.98759559e-01],\n",
       "       [8.08851910e-01, 1.91148090e-01],\n",
       "       [2.00367610e-02, 9.79963239e-01],\n",
       "       [9.99601667e-01, 3.98332776e-04],\n",
       "       [1.60505559e-03, 9.98394944e-01],\n",
       "       [2.47783223e-04, 9.99752217e-01],\n",
       "       [2.10645540e-02, 9.78935446e-01],\n",
       "       [5.51850767e-04, 9.99448149e-01],\n",
       "       [1.69521469e-02, 9.83047853e-01],\n",
       "       [5.09283640e-03, 9.94907164e-01],\n",
       "       [1.16389394e-02, 9.88361061e-01],\n",
       "       [2.03828610e-03, 9.97961714e-01],\n",
       "       [9.19690779e-01, 8.03092214e-02],\n",
       "       [3.33112582e-01, 6.66887418e-01],\n",
       "       [1.33410008e-02, 9.86658999e-01],\n",
       "       [8.90155062e-04, 9.99109845e-01],\n",
       "       [7.08321380e-02, 9.29167862e-01],\n",
       "       [9.98905503e-01, 1.09449734e-03],\n",
       "       [9.99157916e-01, 8.42084119e-04],\n",
       "       [1.86848614e-05, 9.99981315e-01],\n",
       "       [6.23510195e-04, 9.99376490e-01],\n",
       "       [7.75748760e-03, 9.92242512e-01],\n",
       "       [4.84555675e-03, 9.95154443e-01],\n",
       "       [9.80022363e-01, 1.99776371e-02],\n",
       "       [9.97084769e-01, 2.91523084e-03],\n",
       "       [6.12459165e-03, 9.93875408e-01],\n",
       "       [9.80754864e-01, 1.92451359e-02],\n",
       "       [3.47187133e-03, 9.96528129e-01],\n",
       "       [3.56186304e-04, 9.99643814e-01],\n",
       "       [1.12607557e-02, 9.88739244e-01],\n",
       "       [4.09615343e-04, 9.99590385e-01],\n",
       "       [9.43475055e-03, 9.90565249e-01],\n",
       "       [1.82462576e-03, 9.98175374e-01],\n",
       "       [3.52576227e-02, 9.64742377e-01],\n",
       "       [1.09281118e-02, 9.89071888e-01],\n",
       "       [7.05633295e-05, 9.99929437e-01],\n",
       "       [9.93299151e-01, 6.70084948e-03],\n",
       "       [1.38972707e-03, 9.98610273e-01],\n",
       "       [4.13553626e-04, 9.99586446e-01],\n",
       "       [2.33946912e-02, 9.76605309e-01],\n",
       "       [6.58334660e-04, 9.99341665e-01],\n",
       "       [6.60512203e-03, 9.93394878e-01],\n",
       "       [9.99713680e-01, 2.86319564e-04],\n",
       "       [2.84999032e-02, 9.71500097e-01],\n",
       "       [2.22285130e-02, 9.77771487e-01],\n",
       "       [9.98747276e-01, 1.25272439e-03],\n",
       "       [2.98653211e-03, 9.97013468e-01],\n",
       "       [1.23335136e-04, 9.99876665e-01],\n",
       "       [9.99843174e-01, 1.56825802e-04],\n",
       "       [9.99970048e-01, 2.99524540e-05],\n",
       "       [4.36732479e-03, 9.95632675e-01],\n",
       "       [9.99115819e-01, 8.84181482e-04],\n",
       "       [1.60163563e-02, 9.83983644e-01],\n",
       "       [9.99961139e-01, 3.88612369e-05],\n",
       "       [2.31731840e-03, 9.97682682e-01],\n",
       "       [9.99909632e-01, 9.03683028e-05],\n",
       "       [1.07395396e-02, 9.89260460e-01],\n",
       "       [2.05900531e-03, 9.97940995e-01],\n",
       "       [4.53573573e-03, 9.95464264e-01],\n",
       "       [1.16038382e-02, 9.88396162e-01],\n",
       "       [9.90774834e-01, 9.22516599e-03],\n",
       "       [1.24493223e-02, 9.87550678e-01],\n",
       "       [9.97558248e-01, 2.44175166e-03],\n",
       "       [4.48637249e-02, 9.55136275e-01],\n",
       "       [9.99969799e-01, 3.02006384e-05],\n",
       "       [9.98894231e-01, 1.10576877e-03],\n",
       "       [9.97580088e-01, 2.41991198e-03],\n",
       "       [1.16374953e-03, 9.98836250e-01],\n",
       "       [9.93898151e-01, 6.10184881e-03],\n",
       "       [9.97936776e-01, 2.06322366e-03],\n",
       "       [1.52830987e-02, 9.84716901e-01],\n",
       "       [1.70168305e-04, 9.99829832e-01],\n",
       "       [2.85672937e-02, 9.71432706e-01],\n",
       "       [2.42442271e-03, 9.97575577e-01],\n",
       "       [9.31023279e-03, 9.90689767e-01],\n",
       "       [9.98240828e-01, 1.75917240e-03],\n",
       "       [2.29369349e-03, 9.97706307e-01],\n",
       "       [2.35887773e-02, 9.76411223e-01],\n",
       "       [2.15262706e-05, 9.99978474e-01],\n",
       "       [2.72427708e-03, 9.97275723e-01],\n",
       "       [3.31296950e-03, 9.96687031e-01],\n",
       "       [1.60684606e-02, 9.83931539e-01],\n",
       "       [9.79800007e-01, 2.01999930e-02],\n",
       "       [9.22735334e-03, 9.90772647e-01],\n",
       "       [5.97705000e-03, 9.94022950e-01],\n",
       "       [9.97634971e-01, 2.36502898e-03],\n",
       "       [9.99866808e-01, 1.33192063e-04],\n",
       "       [3.97720171e-02, 9.60227983e-01],\n",
       "       [9.95322269e-01, 4.67773113e-03],\n",
       "       [9.77694015e-01, 2.23059847e-02],\n",
       "       [1.23589006e-03, 9.98764110e-01],\n",
       "       [8.20455875e-04, 9.99179544e-01],\n",
       "       [3.74776816e-01, 6.25223184e-01],\n",
       "       [3.86966224e-04, 9.99613034e-01],\n",
       "       [4.30970446e-03, 9.95690296e-01],\n",
       "       [1.16612216e-02, 9.88338778e-01],\n",
       "       [9.21349988e-04, 9.99078650e-01],\n",
       "       [2.69967610e-02, 9.73003239e-01],\n",
       "       [5.03548490e-03, 9.94964515e-01],\n",
       "       [9.89928457e-01, 1.00715425e-02],\n",
       "       [9.87683134e-01, 1.23168661e-02],\n",
       "       [2.72016733e-03, 9.97279833e-01],\n",
       "       [4.59392917e-01, 5.40607083e-01],\n",
       "       [9.98922551e-01, 1.07744887e-03],\n",
       "       [3.23907715e-03, 9.96760923e-01],\n",
       "       [9.95743543e-01, 4.25645704e-03],\n",
       "       [3.64127132e-02, 9.63587287e-01],\n",
       "       [5.64182794e-03, 9.94358172e-01],\n",
       "       [4.02868799e-03, 9.95971312e-01],\n",
       "       [9.48052208e-01, 5.19477917e-02],\n",
       "       [1.40460788e-02, 9.85953921e-01],\n",
       "       [9.95756418e-01, 4.24358189e-03],\n",
       "       [9.98911109e-01, 1.08889125e-03],\n",
       "       [9.95071829e-01, 4.92817114e-03],\n",
       "       [1.40647841e-03, 9.98593522e-01],\n",
       "       [9.84664093e-01, 1.53359074e-02],\n",
       "       [5.59800775e-03, 9.94401992e-01],\n",
       "       [3.40658357e-02, 9.65934164e-01],\n",
       "       [1.60643155e-03, 9.98393568e-01],\n",
       "       [6.51380832e-01, 3.48619168e-01],\n",
       "       [3.21418269e-04, 9.99678582e-01],\n",
       "       [3.94095195e-04, 9.99605905e-01],\n",
       "       [6.99726511e-02, 9.30027349e-01],\n",
       "       [2.27600363e-04, 9.99772400e-01],\n",
       "       [2.76796180e-04, 9.99723204e-01],\n",
       "       [1.68497432e-01, 8.31502568e-01],\n",
       "       [2.46950274e-03, 9.97530497e-01],\n",
       "       [9.86750840e-01, 1.32491600e-02],\n",
       "       [3.21961998e-03, 9.96780380e-01],\n",
       "       [8.12504284e-01, 1.87495716e-01],\n",
       "       [7.13024214e-03, 9.92869758e-01],\n",
       "       [9.90065825e-01, 9.93417514e-03],\n",
       "       [8.24595008e-03, 9.91754050e-01],\n",
       "       [3.87479334e-03, 9.96125207e-01],\n",
       "       [2.37441158e-02, 9.76255884e-01],\n",
       "       [9.87956191e-01, 1.20438090e-02],\n",
       "       [9.91367360e-01, 8.63263991e-03],\n",
       "       [9.99760922e-01, 2.39078022e-04],\n",
       "       [9.72113653e-01, 2.78863466e-02],\n",
       "       [9.99984578e-01, 1.54224508e-05]])"
      ]
     },
     "execution_count": 61,
     "metadata": {},
     "output_type": "execute_result"
    }
   ],
   "source": [
    "MylogRegression.predict_proba(x_test)\n"
   ]
  },
  {
   "cell_type": "code",
   "execution_count": 62,
   "id": "c73e94e9",
   "metadata": {},
   "outputs": [
    {
     "data": {
      "text/plain": [
       "array([[124,   5],\n",
       "       [  1, 255]])"
      ]
     },
     "execution_count": 62,
     "metadata": {},
     "output_type": "execute_result"
    }
   ],
   "source": [
    "confusion_matrix(y_test, MylogRegression.predict(x_test))\n",
    "\n"
   ]
  },
  {
   "cell_type": "markdown",
   "id": "29b11868",
   "metadata": {},
   "source": [
    "# Confusion Matrex"
   ]
  },
  {
   "cell_type": "code",
   "execution_count": 78,
   "id": "62a4986c",
   "metadata": {
    "scrolled": false
   },
   "outputs": [
    {
     "name": "stderr",
     "output_type": "stream",
     "text": [
      "/Applications/anaconda3/lib/python3.9/site-packages/sklearn/utils/deprecation.py:87: FutureWarning: Function plot_confusion_matrix is deprecated; Function `plot_confusion_matrix` is deprecated in 1.0 and will be removed in 1.2. Use one of the class methods: ConfusionMatrixDisplay.from_predictions or ConfusionMatrixDisplay.from_estimator.\n",
      "  warnings.warn(msg, category=FutureWarning)\n"
     ]
    },
    {
     "data": {
      "image/png": "[encoded data removed]",
      "text/plain": [
       "<Figure size 432x288 with 2 Axes>"
      ]
     },
     "metadata": {
      "needs_background": "light"
     },
     "output_type": "display_data"
    }
   ],
   "source": [
    "from sklearn.metrics import plot_confusion_matrix\n",
    "plot_confusion_matrix(MylogRegression, x_test, y_test, cmap='Blues',\n",
    "                      display_labels=['False', 'True'])\n",
    "plt.grid(None);"
   ]
  },
  {
   "cell_type": "markdown",
   "id": "1c9b977b",
   "metadata": {},
   "source": [
    "# Accuracy "
   ]
  },
  {
   "cell_type": "code",
   "execution_count": 64,
   "id": "951044b4",
   "metadata": {},
   "outputs": [
    {
     "name": "stdout",
     "output_type": "stream",
     "text": [
      "              precision    recall  f1-score   support\n",
      "\n",
      "           0       0.99      0.96      0.98       129\n",
      "           1       0.98      1.00      0.99       256\n",
      "\n",
      "    accuracy                           0.98       385\n",
      "   macro avg       0.99      0.98      0.98       385\n",
      "weighted avg       0.98      0.98      0.98       385\n",
      "\n"
     ]
    }
   ],
   "source": [
    "print(classification_report(y_test, MylogRegression.predict(x_test)))\n"
   ]
  },
  {
   "cell_type": "markdown",
   "id": "7e1f9887",
   "metadata": {},
   "source": [
    "# The traning results"
   ]
  },
  {
   "cell_type": "markdown",
   "id": "6f6d1aac",
   "metadata": {},
   "source": [
    "- test accuracy, the confusion matrix, and even the cross-validation score are the same as the sklearn implementation. But, there is a problem with getting the same results every time when fitting the model, and for that not sure why the results are different every time although I have already set the random seed for NumPy to be 42. So i may have to repeat the model creation and training a few times to obtain the same result with the sklearn implementation. "
   ]
  },
  {
   "cell_type": "markdown",
   "id": "09811aa1",
   "metadata": {},
   "source": [
    "# Visualizations\n"
   ]
  },
  {
   "cell_type": "markdown",
   "id": "2ac09b48",
   "metadata": {},
   "source": [
    "- Notes: \n",
    "   - the main purpose of a logistic regression model is to be able to classify the samples.\n",
    "   - To assess the classification performance of the model, there are two things you can look at:\n",
    "     - The output of the logit function.\n",
    "     - The predicted class for all the samples.\n",
    "\n"
   ]
  },
  {
   "cell_type": "markdown",
   "id": "e0428f8d",
   "metadata": {},
   "source": [
    "this regression we can 249 True and 120 False , it means the algo is doing good with prediction \n"
   ]
  },
  {
   "cell_type": "markdown",
   "id": "2921b906",
   "metadata": {},
   "source": [
    "- some notes :"
   ]
  },
  {
   "cell_type": "markdown",
   "id": "426a6e23",
   "metadata": {},
   "source": [
    "- Results : \n",
    "- the raw model can be any number , but the probabilites are numbers between 0 and 1. , so this way is to squash the raw model output to be between 0 and 1 , the sigmoid function takes care of that \n",
    "\n",
    "\n",
    "- finally we can see that each banknote with there actual genuity if they are False or True\n",
    "\n",
    "- The logistic regression model finds the correct decision boundary between True and Fulse  depending on dimensions size that have been provided . The line is the logistic function shifted and squeezed to fit the data.\n",
    "\n",
    "\n",
    "\n",
    "- more explanation about the logistic regression:\n",
    "\n",
    "    - Logistic regression is the linear regression analysis to conduct when the dependent variable is dichotomous (binary).  Like all linear regressions the logistic regression is a predictive analysis.  Logistic regression is used to describe data and to explain the relationship between one dependent binary variable and one or more continuous-level (interval or ratio scale) independent variables.\n"
   ]
  },
  {
   "cell_type": "markdown",
   "id": "ec8ad8f3",
   "metadata": {},
   "source": [
    "# The ROC-AUC classification metric\n",
    "\n",
    "- this is to evaluate classification models using a new metric called ROC-AUC\n",
    "\n",
    "- the standard classification metric is the accuracy which is define as the number of samples correctly classified over the total number of samples.\n",
    "- the accuracy is natural metric, but it does fall short in the contexxt of highly imbalanced datasets, where the positive class you whant to detect or predict is rare compared to the negative class"
   ]
  },
  {
   "cell_type": "code",
   "execution_count": 65,
   "id": "2fc4f9e3",
   "metadata": {},
   "outputs": [],
   "source": [
    "from sklearn.metrics import roc_curve\n"
   ]
  },
  {
   "cell_type": "code",
   "execution_count": 66,
   "id": "470dc7dc",
   "metadata": {},
   "outputs": [
    {
     "data": {
      "text/plain": [
       "<Figure size 432x288 with 0 Axes>"
      ]
     },
     "metadata": {},
     "output_type": "display_data"
    },
    {
     "data": {
      "image/png": "[encoded data removed]",
      "text/plain": [
       "<Figure size 576x360 with 1 Axes>"
      ]
     },
     "metadata": {
      "needs_background": "light"
     },
     "output_type": "display_data"
    }
   ],
   "source": [
    "\n",
    "\n",
    "logit_roc_auc = roc_auc_score(y_test, MylogRegression.predict(x_test))\n",
    "fpr, tpr, thresholds = roc_curve(y_test, MylogRegression.predict_proba(x_test)[:,1])\n",
    "plt.figure()\n",
    "\n",
    "fig, ax  = plt.subplots(1,1, figsize = (8,5))\n",
    "plt.plot(fpr, tpr, label=  \" Logistic Regression (area = %0.2f)\" % logit_roc_auc)\n",
    "# Création d'une courbe ROC\n",
    "\n",
    "plt.plot([0,1], [0,1], 'k--')\n",
    "plt.title ('ROC Curve for is_genuine ~ diagonal+height_left+height_right+margin_low+margin_up+length ')\n",
    "plt.xlabel('False Positive Rate')\n",
    "plt.ylabel('True Positive Rate')\n",
    "plt.grid(alpha = 0.5)\n",
    "sns.despine()\n",
    "plt.tight_layout()\n",
    "\n"
   ]
  },
  {
   "cell_type": "code",
   "execution_count": 67,
   "id": "132180bd",
   "metadata": {},
   "outputs": [],
   "source": [
    "#  it mesure the quality of the classification , if it is close to 1 so i have a good model , \n"
   ]
  },
  {
   "cell_type": "markdown",
   "id": "db4eed9e",
   "metadata": {},
   "source": [
    "# k-mean clustring"
   ]
  },
  {
   "cell_type": "code",
   "execution_count": 68,
   "id": "b061ba5b",
   "metadata": {},
   "outputs": [],
   "source": [
    "n_clust = 2\n",
    "\n",
    "# Clustering par K-means\n",
    "km = KMeans(n_clusters=n_clust,random_state=0)\n",
    "km.fit(x_test)\n",
    "\n",
    "# Récupération des clusters attribués à chaque individu\n",
    "clusters = km.labels_"
   ]
  },
  {
   "cell_type": "code",
   "execution_count": 69,
   "id": "0e55397b",
   "metadata": {},
   "outputs": [],
   "source": [
    "pca_kmeans = decomposition.PCA(n_components=6).fit(x_test)\n",
    "X_projected = pca_kmeans.transform(x_test)"
   ]
  },
  {
   "cell_type": "code",
   "execution_count": 70,
   "id": "a68a005a",
   "metadata": {},
   "outputs": [],
   "source": [
    "centroids = km.cluster_centers_\n",
    "centroids_projected = pca_kmeans.transform(centroids)"
   ]
  },
  {
   "cell_type": "code",
   "execution_count": 71,
   "id": "b651d845",
   "metadata": {},
   "outputs": [
    {
     "data": {
      "image/png": "[encoded data removed]",
      "text/plain": [
       "<Figure size 432x288 with 1 Axes>"
      ]
     },
     "metadata": {
      "needs_background": "light"
     },
     "output_type": "display_data"
    }
   ],
   "source": [
    "plt.scatter(X_projected[:, 0], X_projected[:, 1], c=clusters,cmap='Accent')\n",
    "plt.scatter(centroids_projected[:,0],centroids_projected[:,1], color='red')\n",
    "plt.title(\"Projection of individuals and centroids on the factorial plane\")\n",
    "plt.show()"
   ]
  },
  {
   "cell_type": "code",
   "execution_count": 72,
   "id": "c3152915",
   "metadata": {},
   "outputs": [],
   "source": [
    "y_pred_kmean = km.predict(x_test)"
   ]
  },
  {
   "cell_type": "code",
   "execution_count": 73,
   "id": "bcfd87f1",
   "metadata": {},
   "outputs": [
    {
     "name": "stdout",
     "output_type": "stream",
     "text": [
      "ConfusionMatrix [[  8 121]\n",
      " [255   1]]\n",
      "              precision    recall  f1-score   support\n",
      "\n",
      "           0       0.03      0.06      0.04       129\n",
      "           1       0.01      0.00      0.01       256\n",
      "\n",
      "    accuracy                           0.02       385\n",
      "   macro avg       0.02      0.03      0.02       385\n",
      "weighted avg       0.02      0.02      0.02       385\n",
      "\n"
     ]
    }
   ],
   "source": [
    "print(\"ConfusionMatrix\",confusion_matrix(y_test,y_pred_kmean))\n",
    "print(classification_report(y_test,y_pred_kmean))\n"
   ]
  },
  {
   "cell_type": "markdown",
   "id": "34705a2a",
   "metadata": {},
   "source": [
    "# Confusion Matrix kmean"
   ]
  },
  {
   "cell_type": "code",
   "execution_count": 79,
   "id": "f4ba85e0",
   "metadata": {},
   "outputs": [
    {
     "data": {
      "image/png": "[encoded data removed]",
      "text/plain": [
       "<Figure size 576x576 with 1 Axes>"
      ]
     },
     "metadata": {
      "needs_background": "light"
     },
     "output_type": "display_data"
    }
   ],
   "source": [
    "cm = confusion_matrix(y_test,y_pred_kmean)\n",
    "\n",
    "fig, ax = plt.subplots(figsize=(8, 8))\n",
    "ax.imshow(cm,cmap='viridis')\n",
    "ax.grid(False)\n",
    "ax.xaxis.set(ticks=(0, 1), ticklabels=('Prediction True','Prediction False'))\n",
    "ax.yaxis.set(ticks=(0, 1), ticklabels=('False', 'True'))\n",
    "ax.set_ylim(1.5, -0.5)\n",
    "for i in range(2):\n",
    "    for j in range(2):\n",
    "        ax.text(j, i, cm[i, j], fontsize=16,ha='left',va='center', color='white')\n",
    "plt.show()"
   ]
  },
  {
   "cell_type": "markdown",
   "id": "e9489440",
   "metadata": {},
   "source": [
    "# Final"
   ]
  },
  {
   "cell_type": "markdown",
   "id": "48a68409",
   "metadata": {},
   "source": [
    "#  Algorithme"
   ]
  },
  {
   "cell_type": "code",
   "execution_count": 80,
   "id": "8bacaab0",
   "metadata": {},
   "outputs": [],
   "source": [
    "test = pd.read_csv('billets_production.csv')\n"
   ]
  },
  {
   "cell_type": "code",
   "execution_count": 81,
   "id": "43c8667f",
   "metadata": {},
   "outputs": [],
   "source": [
    "\n",
    "#create a first function that will allow me to test my file with the two algorithms\n",
    "\n",
    "def test_billet(test) : \n",
    "    \n",
    "    # then creat a copy \n",
    "    X_final = test.iloc[:,:-1]\n",
    "       \n",
    "    # then I apply prediction by logistic regression\n",
    "    res = MylogRegression.predict(X_final.values)\n",
    "    res_proba = MylogRegression.predict_proba(X_final.values)[:,-1]\n",
    "    \n",
    "    # I create a list in which I indicate that if the value of i \n",
    "    #is greater than 0.5 it will take the value of True\n",
    "    predict=[]\n",
    "    for i in res_proba:\n",
    "        if i >= 0.5 : predict.append(True)\n",
    "        else : predict.append(False)\n",
    "    \n",
    "    #create a column that displays the prediction in % and another that displays the answer\n",
    "    test[\"prediction_% LogReg\"]=res_proba\n",
    "    test[\"Response LogReg\"]=predict  \n",
    "\n",
    "    return(test[[\"id\", \"prediction_% LogReg\", \"Response LogReg\"]].set_index('id'))\n"
   ]
  },
  {
   "cell_type": "code",
   "execution_count": 82,
   "id": "5464b2c9",
   "metadata": {},
   "outputs": [
    {
     "name": "stdout",
     "output_type": "stream",
     "text": [
      "     prediction_% LogReg  Response LogReg\n",
      "id                                       \n",
      "A_1             0.008551            False\n",
      "A_2             0.010044            False\n",
      "A_3             0.000657            False\n",
      "A_4             0.890763             True\n",
      "A_5             0.999367             True\n"
     ]
    }
   ],
   "source": [
    "print(test_billet(test))"
   ]
  },
  {
   "cell_type": "code",
   "execution_count": null,
   "id": "987667b8",
   "metadata": {},
   "outputs": [],
   "source": []
  },
  {
   "cell_type": "markdown",
   "id": "069bf1d3",
   "metadata": {},
   "source": [
    "# End\n"
   ]
  }
 ],
 "metadata": {
  "kernelspec": {
   "display_name": "Python 3 (ipykernel)",
   "language": "python",
   "name": "python3"
  },
  "language_info": {
   "codemirror_mode": {
    "name": "ipython",
    "version": 3
   },
   "file_extension": ".py",
   "mimetype": "text/x-python",
   "name": "python",
   "nbconvert_exporter": "python",
   "pygments_lexer": "ipython3",
   "version": "3.9.12"
  }
 },
 "nbformat": 4,
 "nbformat_minor": 5
}
